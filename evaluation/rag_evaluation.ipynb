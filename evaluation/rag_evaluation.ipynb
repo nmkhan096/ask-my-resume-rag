{
 "cells": [
  {
   "cell_type": "markdown",
   "id": "c0215f8b",
   "metadata": {},
   "source": [
    "For this notebook, you will need to install the libraries `sentence-transformers`, `seaborn` and `matplotlib` and have an `OPENAI_API_KEY`."
   ]
  },
  {
   "cell_type": "code",
   "execution_count": 1,
   "id": "2db422c7-294a-44a4-b6e0-b00424fc448a",
   "metadata": {},
   "outputs": [
    {
     "name": "stdout",
     "output_type": "stream",
     "text": [
      "/c/projects/ask_my_resume/notebooks\n"
     ]
    }
   ],
   "source": [
    "!pwd"
   ]
  },
  {
   "cell_type": "code",
   "execution_count": 2,
   "id": "0f08f866-6e99-49c9-8b26-7affb79ae4dd",
   "metadata": {},
   "outputs": [
    {
     "name": "stdout",
     "output_type": "stream",
     "text": [
      "C:\\projects\\ask_my_resume\\notebooks\n",
      "C:\\projects\\ask_my_resume\n"
     ]
    }
   ],
   "source": [
    "import os\n",
    "print(os.getcwd())\n",
    "os.chdir(\"..\")\n",
    "print(os.getcwd())"
   ]
  },
  {
   "cell_type": "code",
   "execution_count": 60,
   "id": "205045bd-8cd4-4381-886a-36ef44416c21",
   "metadata": {},
   "outputs": [],
   "source": [
    "from rag_pipeline.rag import rag, vector_search, build_prompt, llm\n",
    "\n",
    "from openai import OpenAI\n",
    "from rag_pipeline.config import API_KEY, LLM_MODEL_DEFAULT"
   ]
  },
  {
   "cell_type": "code",
   "execution_count": 54,
   "id": "c7eaa857-c371-4ee6-8657-a2276f0abc9e",
   "metadata": {},
   "outputs": [
    {
     "name": "stdout",
     "output_type": "stream",
     "text": [
      "Based on the given context, the current company name is Securiti.\n"
     ]
    }
   ],
   "source": [
    "print(rag(\"What is the current company name\", llm_model=\"llama-3.1-8b-instant\"))"
   ]
  },
  {
   "cell_type": "markdown",
   "id": "48c58a8b-e198-4d67-9b82-8e3b30c166da",
   "metadata": {
    "jp-MarkdownHeadingCollapsed": true
   },
   "source": [
    "### Embeddings"
   ]
  },
  {
   "cell_type": "markdown",
   "id": "71603117-6847-4f1a-8882-0158813eadf0",
   "metadata": {},
   "source": [
    "We'll generate embeddings using the sentence transformers library"
   ]
  },
  {
   "cell_type": "code",
   "execution_count": null,
   "id": "eafb2239",
   "metadata": {},
   "outputs": [],
   "source": [
    "pip install sentence-transformers"
   ]
  },
  {
   "cell_type": "code",
   "execution_count": 25,
   "id": "53dad7c0-302c-4e5c-826a-4f88a8ee343f",
   "metadata": {},
   "outputs": [],
   "source": [
    "from sentence_transformers import SentenceTransformer\n",
    "# Trained on real QA pairs from diverse domains & optimized for cosine similarity\n",
    "# so ideal for RAG and Q&A-style tasks\n",
    "model_name_qa = 'multi-qa-MiniLM-L6-cos-v1'  #'all-MiniLM-L6-v2'\n",
    "model_qa = SentenceTransformer(model_name_qa)\n",
    "\n",
    "# Smaller and slightly more general-pupose than multi-qa-*\n",
    "model_name_all = 'all-MiniLM-L6-v2'\n",
    "model_all = SentenceTransformer(model_name_all)"
   ]
  },
  {
   "cell_type": "markdown",
   "id": "8ee0566c-bd2e-4e72-9d3b-e11bdd7691eb",
   "metadata": {},
   "source": [
    "## Ground Truth Data"
   ]
  },
  {
   "cell_type": "code",
   "execution_count": null,
   "id": "0d17c0e4-0c15-434d-a579-b615864cd0d1",
   "metadata": {},
   "outputs": [],
   "source": [
    "# openai api\n",
    "OPENAI_API_KEY=os.environ.get(\"OPENAI_API_KEY\")\n",
    "openai_client = OpenAI(\n",
    "    api_key=OPENAI_API_KEY\n",
    ")"
   ]
  },
  {
   "cell_type": "code",
   "execution_count": 9,
   "id": "f641a333-9968-4f75-b238-5c58df68e16b",
   "metadata": {},
   "outputs": [],
   "source": [
    "import json\n",
    "\n",
    "with open(\"data/resume.json\", \"r\", encoding=\"utf-8\") as f:\n",
    "    document_raw = json.load(f)"
   ]
  },
  {
   "cell_type": "code",
   "execution_count": 10,
   "id": "becb332b-bd74-4a6a-8edb-b553fec9db6e",
   "metadata": {},
   "outputs": [],
   "source": [
    "prompt_template = \"\"\"\n",
    "You are an interviewer preparing for a behavioral or technical interview.\n",
    "Your goal is to write 5 clear and complete questions that would directly elicit the following resume entry as an answer.\n",
    "Only ask questions that can be directly answered using the provided entry. \n",
    "If the entry only includes company, job title, location, and dates, avoid asking technical or project-based questions.\n",
    "Avoid copying exact phrases from the resume — the questions should sound natural, but their answers should be well covered by the entry.\n",
    "\n",
    "section: {section}\n",
    "entry: {text}\n",
    "\n",
    "Provide the output in a JSON array only without using code blocks:\n",
    "[\"question1\", \"question2\", ..., \"question5\"]\n",
    "\"\"\".strip()"
   ]
  },
  {
   "cell_type": "code",
   "execution_count": 12,
   "id": "ae025870-b182-46ba-82a4-dbf14071263e",
   "metadata": {},
   "outputs": [
    {
     "name": "stdout",
     "output_type": "stream",
     "text": [
      "You are an interviewer preparing for a behavioral or technical interview.\n",
      "Your goal is to write 5 clear and complete questions that would directly elicit the following resume entry as an answer.\n",
      "Only ask questions that can be directly answered using the provided entry. \n",
      "If the entry only includes company, job title, location, and dates, avoid asking technical or project-based questions.\n",
      "Avoid copying exact phrases from the resume — the questions should sound natural, but their answers should be well covered by the entry.\n",
      "\n",
      "section: Work Experience\n",
      "entry: Iteratively improved model accuracy through prompt-formatted instructions and data augmentation techniques, utilizing AI copilots like Claude Code to automate data transformations.\n",
      "\n",
      "Provide the output in a JSON array only without using code blocks:\n",
      "[\"question1\", \"question2\", ..., \"question5\"]\n"
     ]
    }
   ],
   "source": [
    "doc = document_raw[5]\n",
    "prompt = prompt_template.format(\n",
    "        section=doc[\"metadata\"][\"section\"],\n",
    "        text=doc[\"text\"]\n",
    "    )\n",
    "print(prompt)"
   ]
  },
  {
   "cell_type": "code",
   "execution_count": 13,
   "id": "63285b00-5c91-4590-831c-f291f7a82044",
   "metadata": {},
   "outputs": [],
   "source": [
    "def generate_questions(doc):\n",
    "    prompt = prompt_template.format(\n",
    "        section=doc[\"metadata\"][\"section\"],\n",
    "        text=doc[\"text\"]\n",
    "    )\n",
    "\n",
    "    response = openai_client.chat.completions.create(\n",
    "        model='gpt-4o-mini',\n",
    "        messages=[{\"role\": \"user\", \"content\": prompt}]\n",
    "    )\n",
    "\n",
    "    json_response = response.choices[0].message.content\n",
    "    return json_response"
   ]
  },
  {
   "cell_type": "code",
   "execution_count": 14,
   "id": "63ec4014-69bd-4c28-8ffc-66c157f1164d",
   "metadata": {},
   "outputs": [],
   "source": [
    "from tqdm.auto import tqdm"
   ]
  },
  {
   "cell_type": "code",
   "execution_count": 17,
   "id": "1e6d6db3-f0d4-43c4-b9b4-29a83293cc3d",
   "metadata": {},
   "outputs": [
    {
     "name": "stdout",
     "output_type": "stream",
     "text": [
      "19\n"
     ]
    },
    {
     "data": {
      "text/plain": [
       "list"
      ]
     },
     "execution_count": 17,
     "metadata": {},
     "output_type": "execute_result"
    }
   ],
   "source": [
    "print(len(document_raw))\n",
    "type(document_raw)"
   ]
  },
  {
   "cell_type": "code",
   "execution_count": 18,
   "id": "c6088f6b-0471-42fd-bc54-a0df66800cdf",
   "metadata": {},
   "outputs": [
    {
     "data": {
      "text/plain": [
       "95"
      ]
     },
     "execution_count": 18,
     "metadata": {},
     "output_type": "execute_result"
    }
   ],
   "source": [
    "19*5"
   ]
  },
  {
   "cell_type": "code",
   "execution_count": null,
   "id": "8db44f57-945e-4ecc-a09d-a3f78ef1f770",
   "metadata": {},
   "outputs": [],
   "source": [
    "print(document_raw[5]) # 0, 6, \n",
    "\n",
    "print(generate_questions(document_raw[7]))"
   ]
  },
  {
   "cell_type": "code",
   "execution_count": null,
   "id": "b636f309-b947-48aa-a526-317e407194fa",
   "metadata": {},
   "outputs": [],
   "source": [
    "results = {}"
   ]
  },
  {
   "cell_type": "code",
   "execution_count": null,
   "id": "f7fba5a3-a926-4f54-911b-f22d55d095a1",
   "metadata": {},
   "outputs": [],
   "source": [
    "for doc in tqdm(document_raw): \n",
    "    doc_id = doc['id']\n",
    "    if doc_id in results:\n",
    "        continue\n",
    "\n",
    "    questions = generate_questions(doc)\n",
    "    #print(questions)\n",
    "    results[doc_id] = questions"
   ]
  },
  {
   "cell_type": "code",
   "execution_count": null,
   "id": "bb77e623-1abf-46ab-9c1b-192e1f8be031",
   "metadata": {},
   "outputs": [],
   "source": [
    "len(results)"
   ]
  },
  {
   "cell_type": "code",
   "execution_count": 61,
   "id": "7233ade6-af9e-47a8-980b-de17fb654020",
   "metadata": {},
   "outputs": [],
   "source": [
    "import pandas as pd"
   ]
  },
  {
   "cell_type": "code",
   "execution_count": null,
   "id": "3d1d3038-d54a-4173-b9ad-b723f20a9e84",
   "metadata": {},
   "outputs": [],
   "source": [
    "doc_id_to_section = {doc['id']:  doc[\"metadata\"][\"section\"] for doc in document_raw}\n",
    "\n",
    "# Flatten the results into a list of rows\n",
    "rows = []\n",
    "for doc_id, question_list in results.items():\n",
    "    section = doc_id_to_section.get(doc_id, \"Unknown\")\n",
    "\n",
    "     # Fix improperly stored stringified lists\n",
    "    if isinstance(question_list, str):\n",
    "        try:\n",
    "            question_list = json.loads(question_list)\n",
    "        except json.JSONDecodeError:\n",
    "            print(f\"Failed to decode questions for doc_id {doc_id}\")\n",
    "            continue\n",
    "            \n",
    "    for question in question_list:\n",
    "        #print(question)\n",
    "        rows.append({\n",
    "            \"question\": question,\n",
    "            \"section\": section,\n",
    "            \"doc_id\": doc_id\n",
    "        })\n",
    "\n",
    "# Convert to DataFrame\n",
    "df = pd.DataFrame(rows)"
   ]
  },
  {
   "cell_type": "code",
   "execution_count": null,
   "id": "8a0c72ac-ac56-407b-945c-a373dc3722c1",
   "metadata": {},
   "outputs": [],
   "source": [
    "len(rows)"
   ]
  },
  {
   "cell_type": "code",
   "execution_count": null,
   "id": "da40bdf2-40c7-4b0a-87e6-b60a87e0b9f9",
   "metadata": {},
   "outputs": [],
   "source": [
    "df.to_csv('data/ground_truth_data.csv', index=False)"
   ]
  },
  {
   "cell_type": "code",
   "execution_count": null,
   "id": "72c3b97f-35ed-4c9e-b928-824a0422c86e",
   "metadata": {},
   "outputs": [],
   "source": [
    "!head data/ground_truth_data.csv"
   ]
  },
  {
   "cell_type": "code",
   "execution_count": 19,
   "id": "65aa8fb0-7a43-4c15-9abc-572f8cc55042",
   "metadata": {},
   "outputs": [
    {
     "data": {
      "text/html": [
       "<div>\n",
       "<style scoped>\n",
       "    .dataframe tbody tr th:only-of-type {\n",
       "        vertical-align: middle;\n",
       "    }\n",
       "\n",
       "    .dataframe tbody tr th {\n",
       "        vertical-align: top;\n",
       "    }\n",
       "\n",
       "    .dataframe thead th {\n",
       "        text-align: right;\n",
       "    }\n",
       "</style>\n",
       "<table border=\"1\" class=\"dataframe\">\n",
       "  <thead>\n",
       "    <tr style=\"text-align: right;\">\n",
       "      <th></th>\n",
       "      <th>question</th>\n",
       "      <th>section</th>\n",
       "      <th>doc_id</th>\n",
       "    </tr>\n",
       "  </thead>\n",
       "  <tbody>\n",
       "    <tr>\n",
       "      <th>0</th>\n",
       "      <td>What is your current job title and where do yo...</td>\n",
       "      <td>Work Experience</td>\n",
       "      <td>ae0142cf-58e4-408a-b2c3-950b9864f8e9</td>\n",
       "    </tr>\n",
       "    <tr>\n",
       "      <th>1</th>\n",
       "      <td>Can you tell me about the location of your cur...</td>\n",
       "      <td>Work Experience</td>\n",
       "      <td>ae0142cf-58e4-408a-b2c3-950b9864f8e9</td>\n",
       "    </tr>\n",
       "    <tr>\n",
       "      <th>2</th>\n",
       "      <td>When did you start your current position?</td>\n",
       "      <td>Work Experience</td>\n",
       "      <td>ae0142cf-58e4-408a-b2c3-950b9864f8e9</td>\n",
       "    </tr>\n",
       "    <tr>\n",
       "      <th>3</th>\n",
       "      <td>Are you currently working as a Data Scientist?</td>\n",
       "      <td>Work Experience</td>\n",
       "      <td>ae0142cf-58e4-408a-b2c3-950b9864f8e9</td>\n",
       "    </tr>\n",
       "    <tr>\n",
       "      <th>4</th>\n",
       "      <td>What company are you employed with at the moment?</td>\n",
       "      <td>Work Experience</td>\n",
       "      <td>ae0142cf-58e4-408a-b2c3-950b9864f8e9</td>\n",
       "    </tr>\n",
       "  </tbody>\n",
       "</table>\n",
       "</div>"
      ],
      "text/plain": [
       "                                            question          section  \\\n",
       "0  What is your current job title and where do yo...  Work Experience   \n",
       "1  Can you tell me about the location of your cur...  Work Experience   \n",
       "2          When did you start your current position?  Work Experience   \n",
       "3     Are you currently working as a Data Scientist?  Work Experience   \n",
       "4  What company are you employed with at the moment?  Work Experience   \n",
       "\n",
       "                                 doc_id  \n",
       "0  ae0142cf-58e4-408a-b2c3-950b9864f8e9  \n",
       "1  ae0142cf-58e4-408a-b2c3-950b9864f8e9  \n",
       "2  ae0142cf-58e4-408a-b2c3-950b9864f8e9  \n",
       "3  ae0142cf-58e4-408a-b2c3-950b9864f8e9  \n",
       "4  ae0142cf-58e4-408a-b2c3-950b9864f8e9  "
      ]
     },
     "execution_count": 19,
     "metadata": {},
     "output_type": "execute_result"
    }
   ],
   "source": [
    "import pandas as pd\n",
    "df_ground_truth = pd.read_csv('data/ground_truth_data.csv')\n",
    "df_ground_truth.head()"
   ]
  },
  {
   "cell_type": "code",
   "execution_count": 20,
   "id": "74792d9b-5986-4d60-8aa7-c2bb35152c58",
   "metadata": {},
   "outputs": [
    {
     "data": {
      "text/plain": [
       "95"
      ]
     },
     "execution_count": 20,
     "metadata": {},
     "output_type": "execute_result"
    }
   ],
   "source": [
    "ground_truth = df_ground_truth.to_dict(orient='records')\n",
    "len(ground_truth)"
   ]
  },
  {
   "cell_type": "code",
   "execution_count": 81,
   "id": "bb9bfb44-c857-4aca-8119-66822058b660",
   "metadata": {},
   "outputs": [],
   "source": [
    "#creating an index on document_raw to quickyl retrive the doc id answer from document_raw:\n",
    "# builds a dictionary (lookup index) where  key is id value from each document, and value is the full document entry\n",
    "doc_idx = {d[\"id\"]: d for d in document_raw}\n",
    "\n",
    "# # Now you can instantly access:\n",
    "# doc_text = doc_idx['3e1e2fd4-45c5-47dd-b4e6-f68835f53f6d'][\"text\"]\n",
    "# doc_section = doc_idx['3e1e2fd4-45c5-47dd-b4e6-f68835f53f6d'][\"metadata\"][\"section\"]\n",
    "# doc_text"
   ]
  },
  {
   "cell_type": "code",
   "execution_count": null,
   "id": "4e271a7c-9100-4c73-89b8-533cb396e1a4",
   "metadata": {},
   "outputs": [],
   "source": [
    "ground_truth[4]['question']"
   ]
  },
  {
   "cell_type": "code",
   "execution_count": null,
   "id": "adf1d8a3-f2ec-4461-afc0-f8226e2e7bd9",
   "metadata": {},
   "outputs": [],
   "source": [
    "rag(ground_truth[4]['question'])"
   ]
  },
  {
   "cell_type": "markdown",
   "id": "a6575bc3-0cd4-4b70-8057-271c9a99af3a",
   "metadata": {},
   "source": [
    "# Evaluate RAG"
   ]
  },
  {
   "cell_type": "markdown",
   "id": "d9080710-80b9-48cb-8f8d-882626bcbc8c",
   "metadata": {
    "jp-MarkdownHeadingCollapsed": true
   },
   "source": [
    "## Cosine Similarity"
   ]
  },
  {
   "cell_type": "markdown",
   "id": "f35e36c9-f1ae-460c-8f25-2e230d23b238",
   "metadata": {
    "jp-MarkdownHeadingCollapsed": true
   },
   "source": [
    "### llama-3.3-70b-versatile"
   ]
  },
  {
   "cell_type": "code",
   "execution_count": null,
   "id": "2df45ff2-4ccd-401a-a87b-66b5ca34725d",
   "metadata": {},
   "outputs": [],
   "source": [
    "answers = {}"
   ]
  },
  {
   "cell_type": "code",
   "execution_count": null,
   "id": "b9a3833d-1dac-463f-829e-8abff0f4ab48",
   "metadata": {},
   "outputs": [],
   "source": [
    "for i, rec in enumerate(tqdm(ground_truth)):\n",
    "    if i in answers:\n",
    "        continue\n",
    "    #print(rec['question'])\n",
    "    answer_llm = rag(rec['question'])\n",
    "    doc_id = rec['doc_id']\n",
    "    original_doc = doc_idx[doc_id]\n",
    "    answer_orig = original_doc['text']\n",
    "\n",
    "    answers[i] = {\n",
    "        'answer_llm': answer_llm,\n",
    "        'answer_orig': answer_orig,\n",
    "        'doc_id': doc_id,\n",
    "        'question': rec['question'],\n",
    "        'section': rec['section'],\n",
    "    }"
   ]
  },
  {
   "cell_type": "code",
   "execution_count": null,
   "id": "3e7c3f3f-1694-4891-ad53-fe3c7255bcfa",
   "metadata": {},
   "outputs": [],
   "source": [
    "len(answers)"
   ]
  },
  {
   "cell_type": "code",
   "execution_count": null,
   "id": "3e97f90f-83a9-43da-a023-90687e57312a",
   "metadata": {},
   "outputs": [],
   "source": [
    "df_results_llama = pd.DataFrame(answers.values())#.sample(5).to_dict(orient='records')\n",
    "#os.makedirs('data', exist_ok=True)\n",
    "# df_results_llama.to_csv('data/results_llama-3.3-70b-versatile.csv', index=False)"
   ]
  },
  {
   "cell_type": "code",
   "execution_count": 22,
   "id": "76577eff-ed80-4f48-a3b3-5262714b6f51",
   "metadata": {},
   "outputs": [],
   "source": [
    "df_results_llama = pd.read_csv('data/results_llama-3.3-70b-versatile.csv')"
   ]
  },
  {
   "cell_type": "code",
   "execution_count": 29,
   "id": "576c3a07-c4d3-412c-b83f-9aa0fa86a869",
   "metadata": {},
   "outputs": [],
   "source": [
    "results_llama = df_results_llama.to_dict(orient='records')"
   ]
  },
  {
   "cell_type": "code",
   "execution_count": 32,
   "id": "cc7d27b8-b021-46d0-a8f5-a9ee3aca82da",
   "metadata": {},
   "outputs": [],
   "source": [
    "def compute_similarity(record):\n",
    "    answer_orig = record['answer_orig']\n",
    "    answer_llm = record['answer_llm']\n",
    "    \n",
    "    # v_llm = model_qa.encode(answer_llm)\n",
    "    # v_orig = model_qa.encode(answer_orig)\n",
    "    \n",
    "    v_llm = model_all.encode(answer_llm)\n",
    "    v_orig = model_all.encode(answer_orig)\n",
    "    \n",
    "    return v_llm.dot(v_orig)"
   ]
  },
  {
   "cell_type": "code",
   "execution_count": 33,
   "id": "b7d5d26c-c669-4c15-b9d6-84bbcf1730d1",
   "metadata": {},
   "outputs": [
    {
     "data": {
      "application/vnd.jupyter.widget-view+json": {
       "model_id": "02989ce3734643faa67a7cf95a78bce7",
       "version_major": 2,
       "version_minor": 0
      },
      "text/plain": [
       "  0%|          | 0/95 [00:00<?, ?it/s]"
      ]
     },
     "metadata": {},
     "output_type": "display_data"
    }
   ],
   "source": [
    "similarity = []\n",
    "\n",
    "for record in tqdm(results_llama):\n",
    "    sim = compute_similarity(record)\n",
    "    similarity.append(sim)"
   ]
  },
  {
   "cell_type": "code",
   "execution_count": 31,
   "id": "e22335f2-0b0e-4e4f-b5da-a6149fbcacbb",
   "metadata": {},
   "outputs": [
    {
     "data": {
      "text/html": [
       "<div>\n",
       "<style scoped>\n",
       "    .dataframe tbody tr th:only-of-type {\n",
       "        vertical-align: middle;\n",
       "    }\n",
       "\n",
       "    .dataframe tbody tr th {\n",
       "        vertical-align: top;\n",
       "    }\n",
       "\n",
       "    .dataframe thead th {\n",
       "        text-align: right;\n",
       "    }\n",
       "</style>\n",
       "<table border=\"1\" class=\"dataframe\">\n",
       "  <thead>\n",
       "    <tr style=\"text-align: right;\">\n",
       "      <th></th>\n",
       "      <th>count</th>\n",
       "      <th>mean</th>\n",
       "      <th>std</th>\n",
       "      <th>min</th>\n",
       "      <th>25%</th>\n",
       "      <th>50%</th>\n",
       "      <th>75%</th>\n",
       "      <th>max</th>\n",
       "    </tr>\n",
       "    <tr>\n",
       "      <th>section</th>\n",
       "      <th></th>\n",
       "      <th></th>\n",
       "      <th></th>\n",
       "      <th></th>\n",
       "      <th></th>\n",
       "      <th></th>\n",
       "      <th></th>\n",
       "      <th></th>\n",
       "    </tr>\n",
       "  </thead>\n",
       "  <tbody>\n",
       "    <tr>\n",
       "      <th>Education</th>\n",
       "      <td>10.0</td>\n",
       "      <td>0.527080</td>\n",
       "      <td>0.228442</td>\n",
       "      <td>0.052174</td>\n",
       "      <td>0.425303</td>\n",
       "      <td>0.564721</td>\n",
       "      <td>0.702172</td>\n",
       "      <td>0.759555</td>\n",
       "    </tr>\n",
       "    <tr>\n",
       "      <th>Projects</th>\n",
       "      <td>10.0</td>\n",
       "      <td>0.655759</td>\n",
       "      <td>0.182994</td>\n",
       "      <td>0.381100</td>\n",
       "      <td>0.505373</td>\n",
       "      <td>0.655294</td>\n",
       "      <td>0.769978</td>\n",
       "      <td>0.923424</td>\n",
       "    </tr>\n",
       "    <tr>\n",
       "      <th>Skills</th>\n",
       "      <td>5.0</td>\n",
       "      <td>0.481072</td>\n",
       "      <td>0.115442</td>\n",
       "      <td>0.358570</td>\n",
       "      <td>0.359693</td>\n",
       "      <td>0.512676</td>\n",
       "      <td>0.582870</td>\n",
       "      <td>0.591552</td>\n",
       "    </tr>\n",
       "    <tr>\n",
       "      <th>Work Experience</th>\n",
       "      <td>70.0</td>\n",
       "      <td>0.594996</td>\n",
       "      <td>0.272041</td>\n",
       "      <td>-0.077712</td>\n",
       "      <td>0.532729</td>\n",
       "      <td>0.682576</td>\n",
       "      <td>0.785674</td>\n",
       "      <td>0.929522</td>\n",
       "    </tr>\n",
       "  </tbody>\n",
       "</table>\n",
       "</div>"
      ],
      "text/plain": [
       "                 count      mean       std       min       25%       50%  \\\n",
       "section                                                                    \n",
       "Education         10.0  0.527080  0.228442  0.052174  0.425303  0.564721   \n",
       "Projects          10.0  0.655759  0.182994  0.381100  0.505373  0.655294   \n",
       "Skills             5.0  0.481072  0.115442  0.358570  0.359693  0.512676   \n",
       "Work Experience   70.0  0.594996  0.272041 -0.077712  0.532729  0.682576   \n",
       "\n",
       "                      75%       max  \n",
       "section                              \n",
       "Education        0.702172  0.759555  \n",
       "Projects         0.769978  0.923424  \n",
       "Skills           0.582870  0.591552  \n",
       "Work Experience  0.785674  0.929522  "
      ]
     },
     "execution_count": 31,
     "metadata": {},
     "output_type": "execute_result"
    }
   ],
   "source": [
    "df_results_llama['cosine_qa'] = similarity\n",
    "df_results_llama['cosine_qa'].describe()\n",
    "df_results_llama.groupby('section')['cosine_qa'].describe()"
   ]
  },
  {
   "cell_type": "code",
   "execution_count": 112,
   "id": "1abb68ce-f2e8-45ae-bbf1-12920baf1a5c",
   "metadata": {},
   "outputs": [
    {
     "data": {
      "text/html": [
       "<div>\n",
       "<style scoped>\n",
       "    .dataframe tbody tr th:only-of-type {\n",
       "        vertical-align: middle;\n",
       "    }\n",
       "\n",
       "    .dataframe tbody tr th {\n",
       "        vertical-align: top;\n",
       "    }\n",
       "\n",
       "    .dataframe thead th {\n",
       "        text-align: right;\n",
       "    }\n",
       "</style>\n",
       "<table border=\"1\" class=\"dataframe\">\n",
       "  <thead>\n",
       "    <tr style=\"text-align: right;\">\n",
       "      <th></th>\n",
       "      <th>count</th>\n",
       "      <th>mean</th>\n",
       "      <th>std</th>\n",
       "      <th>min</th>\n",
       "      <th>25%</th>\n",
       "      <th>50%</th>\n",
       "      <th>75%</th>\n",
       "      <th>max</th>\n",
       "    </tr>\n",
       "    <tr>\n",
       "      <th>section</th>\n",
       "      <th></th>\n",
       "      <th></th>\n",
       "      <th></th>\n",
       "      <th></th>\n",
       "      <th></th>\n",
       "      <th></th>\n",
       "      <th></th>\n",
       "      <th></th>\n",
       "    </tr>\n",
       "  </thead>\n",
       "  <tbody>\n",
       "    <tr>\n",
       "      <th>Education</th>\n",
       "      <td>10.0</td>\n",
       "      <td>0.510713</td>\n",
       "      <td>0.182568</td>\n",
       "      <td>0.090166</td>\n",
       "      <td>0.445921</td>\n",
       "      <td>0.543154</td>\n",
       "      <td>0.653294</td>\n",
       "      <td>0.685782</td>\n",
       "    </tr>\n",
       "    <tr>\n",
       "      <th>Projects</th>\n",
       "      <td>10.0</td>\n",
       "      <td>0.740273</td>\n",
       "      <td>0.143630</td>\n",
       "      <td>0.535940</td>\n",
       "      <td>0.633322</td>\n",
       "      <td>0.746957</td>\n",
       "      <td>0.850453</td>\n",
       "      <td>0.945555</td>\n",
       "    </tr>\n",
       "    <tr>\n",
       "      <th>Skills</th>\n",
       "      <td>5.0</td>\n",
       "      <td>0.491292</td>\n",
       "      <td>0.149535</td>\n",
       "      <td>0.284191</td>\n",
       "      <td>0.418129</td>\n",
       "      <td>0.485872</td>\n",
       "      <td>0.620672</td>\n",
       "      <td>0.647595</td>\n",
       "    </tr>\n",
       "    <tr>\n",
       "      <th>Work Experience</th>\n",
       "      <td>70.0</td>\n",
       "      <td>0.633545</td>\n",
       "      <td>0.267725</td>\n",
       "      <td>-0.061153</td>\n",
       "      <td>0.583262</td>\n",
       "      <td>0.727893</td>\n",
       "      <td>0.805798</td>\n",
       "      <td>0.926139</td>\n",
       "    </tr>\n",
       "  </tbody>\n",
       "</table>\n",
       "</div>"
      ],
      "text/plain": [
       "                 count      mean       std       min       25%       50%  \\\n",
       "section                                                                    \n",
       "Education         10.0  0.510713  0.182568  0.090166  0.445921  0.543154   \n",
       "Projects          10.0  0.740273  0.143630  0.535940  0.633322  0.746957   \n",
       "Skills             5.0  0.491292  0.149535  0.284191  0.418129  0.485872   \n",
       "Work Experience   70.0  0.633545  0.267725 -0.061153  0.583262  0.727893   \n",
       "\n",
       "                      75%       max  \n",
       "section                              \n",
       "Education        0.653294  0.685782  \n",
       "Projects         0.850453  0.945555  \n",
       "Skills           0.620672  0.647595  \n",
       "Work Experience  0.805798  0.926139  "
      ]
     },
     "execution_count": 112,
     "metadata": {},
     "output_type": "execute_result"
    }
   ],
   "source": [
    "# df_results_llama['cosine_all'] = similarity\n",
    "# df_results_llama['cosine_all'].describe()\n",
    "df_results_llama.groupby('section')['cosine_all'].describe()"
   ]
  },
  {
   "cell_type": "code",
   "execution_count": 122,
   "id": "6f972407-ea56-46f7-9c78-cc5fc9a3e707",
   "metadata": {},
   "outputs": [
    {
     "data": {
      "text/html": [
       "<div>\n",
       "<style scoped>\n",
       "    .dataframe tbody tr th:only-of-type {\n",
       "        vertical-align: middle;\n",
       "    }\n",
       "\n",
       "    .dataframe tbody tr th {\n",
       "        vertical-align: top;\n",
       "    }\n",
       "\n",
       "    .dataframe thead th {\n",
       "        text-align: right;\n",
       "    }\n",
       "</style>\n",
       "<table border=\"1\" class=\"dataframe\">\n",
       "  <thead>\n",
       "    <tr style=\"text-align: right;\">\n",
       "      <th></th>\n",
       "      <th>answer_llm</th>\n",
       "      <th>answer_orig</th>\n",
       "      <th>doc_id</th>\n",
       "      <th>question</th>\n",
       "      <th>section</th>\n",
       "      <th>cosine</th>\n",
       "    </tr>\n",
       "  </thead>\n",
       "  <tbody>\n",
       "    <tr>\n",
       "      <th>0</th>\n",
       "      <td>Your current job title is Data Scientist, and ...</td>\n",
       "      <td>Work Experience\\nSecuriti, Karachi, Pakistan\\t...</td>\n",
       "      <td>ae0142cf-58e4-408a-b2c3-950b9864f8e9</td>\n",
       "      <td>What is your current job title and where do yo...</td>\n",
       "      <td>Work Experience</td>\n",
       "      <td>0.782146</td>\n",
       "    </tr>\n",
       "    <tr>\n",
       "      <th>1</th>\n",
       "      <td>The location of your current workplace is Kara...</td>\n",
       "      <td>Work Experience\\nSecuriti, Karachi, Pakistan\\t...</td>\n",
       "      <td>ae0142cf-58e4-408a-b2c3-950b9864f8e9</td>\n",
       "      <td>Can you tell me about the location of your cur...</td>\n",
       "      <td>Work Experience</td>\n",
       "      <td>0.760741</td>\n",
       "    </tr>\n",
       "    <tr>\n",
       "      <th>2</th>\n",
       "      <td>The candidate started their current position a...</td>\n",
       "      <td>Work Experience\\nSecuriti, Karachi, Pakistan\\t...</td>\n",
       "      <td>ae0142cf-58e4-408a-b2c3-950b9864f8e9</td>\n",
       "      <td>When did you start your current position?</td>\n",
       "      <td>Work Experience</td>\n",
       "      <td>0.588890</td>\n",
       "    </tr>\n",
       "    <tr>\n",
       "      <th>3</th>\n",
       "      <td>Yes, according to the resume, the candidate is...</td>\n",
       "      <td>Work Experience\\nSecuriti, Karachi, Pakistan\\t...</td>\n",
       "      <td>ae0142cf-58e4-408a-b2c3-950b9864f8e9</td>\n",
       "      <td>Are you currently working as a Data Scientist?</td>\n",
       "      <td>Work Experience</td>\n",
       "      <td>0.724143</td>\n",
       "    </tr>\n",
       "    <tr>\n",
       "      <th>4</th>\n",
       "      <td>The company you are employed with at the momen...</td>\n",
       "      <td>Work Experience\\nSecuriti, Karachi, Pakistan\\t...</td>\n",
       "      <td>ae0142cf-58e4-408a-b2c3-950b9864f8e9</td>\n",
       "      <td>What company are you employed with at the moment?</td>\n",
       "      <td>Work Experience</td>\n",
       "      <td>0.582434</td>\n",
       "    </tr>\n",
       "    <tr>\n",
       "      <th>...</th>\n",
       "      <td>...</td>\n",
       "      <td>...</td>\n",
       "      <td>...</td>\n",
       "      <td>...</td>\n",
       "      <td>...</td>\n",
       "      <td>...</td>\n",
       "    </tr>\n",
       "    <tr>\n",
       "      <th>90</th>\n",
       "      <td>According to the candidate's resume, the cours...</td>\n",
       "      <td>Courses: Machine Learning, Probability &amp; Stati...</td>\n",
       "      <td>6997daaa-6c04-4f95-84f8-000586c93ed0</td>\n",
       "      <td>What courses did you take that are related to ...</td>\n",
       "      <td>Education</td>\n",
       "      <td>0.669786</td>\n",
       "    </tr>\n",
       "    <tr>\n",
       "      <th>91</th>\n",
       "      <td>Based on the candidate's resume, the subject t...</td>\n",
       "      <td>Courses: Machine Learning, Probability &amp; Stati...</td>\n",
       "      <td>6997daaa-6c04-4f95-84f8-000586c93ed0</td>\n",
       "      <td>Can you list some of the subjects you studied ...</td>\n",
       "      <td>Education</td>\n",
       "      <td>0.370050</td>\n",
       "    </tr>\n",
       "    <tr>\n",
       "      <th>92</th>\n",
       "      <td>Based on the context, in the candidate's educa...</td>\n",
       "      <td>Courses: Machine Learning, Probability &amp; Stati...</td>\n",
       "      <td>6997daaa-6c04-4f95-84f8-000586c93ed0</td>\n",
       "      <td>Which programming concepts did you learn in yo...</td>\n",
       "      <td>Education</td>\n",
       "      <td>0.574704</td>\n",
       "    </tr>\n",
       "    <tr>\n",
       "      <th>93</th>\n",
       "      <td>The candidate took a course in \"Probability &amp; ...</td>\n",
       "      <td>Courses: Machine Learning, Probability &amp; Stati...</td>\n",
       "      <td>6997daaa-6c04-4f95-84f8-000586c93ed0</td>\n",
       "      <td>What foundational courses did you take in stat...</td>\n",
       "      <td>Education</td>\n",
       "      <td>0.434169</td>\n",
       "    </tr>\n",
       "    <tr>\n",
       "      <th>94</th>\n",
       "      <td>Not available in the resume.</td>\n",
       "      <td>Courses: Machine Learning, Probability &amp; Stati...</td>\n",
       "      <td>6997daaa-6c04-4f95-84f8-000586c93ed0</td>\n",
       "      <td>How did your studies in object-oriented progra...</td>\n",
       "      <td>Education</td>\n",
       "      <td>0.090166</td>\n",
       "    </tr>\n",
       "  </tbody>\n",
       "</table>\n",
       "<p>95 rows × 6 columns</p>\n",
       "</div>"
      ],
      "text/plain": [
       "                                           answer_llm  \\\n",
       "0   Your current job title is Data Scientist, and ...   \n",
       "1   The location of your current workplace is Kara...   \n",
       "2   The candidate started their current position a...   \n",
       "3   Yes, according to the resume, the candidate is...   \n",
       "4   The company you are employed with at the momen...   \n",
       "..                                                ...   \n",
       "90  According to the candidate's resume, the cours...   \n",
       "91  Based on the candidate's resume, the subject t...   \n",
       "92  Based on the context, in the candidate's educa...   \n",
       "93  The candidate took a course in \"Probability & ...   \n",
       "94                       Not available in the resume.   \n",
       "\n",
       "                                          answer_orig  \\\n",
       "0   Work Experience\\nSecuriti, Karachi, Pakistan\\t...   \n",
       "1   Work Experience\\nSecuriti, Karachi, Pakistan\\t...   \n",
       "2   Work Experience\\nSecuriti, Karachi, Pakistan\\t...   \n",
       "3   Work Experience\\nSecuriti, Karachi, Pakistan\\t...   \n",
       "4   Work Experience\\nSecuriti, Karachi, Pakistan\\t...   \n",
       "..                                                ...   \n",
       "90  Courses: Machine Learning, Probability & Stati...   \n",
       "91  Courses: Machine Learning, Probability & Stati...   \n",
       "92  Courses: Machine Learning, Probability & Stati...   \n",
       "93  Courses: Machine Learning, Probability & Stati...   \n",
       "94  Courses: Machine Learning, Probability & Stati...   \n",
       "\n",
       "                                  doc_id  \\\n",
       "0   ae0142cf-58e4-408a-b2c3-950b9864f8e9   \n",
       "1   ae0142cf-58e4-408a-b2c3-950b9864f8e9   \n",
       "2   ae0142cf-58e4-408a-b2c3-950b9864f8e9   \n",
       "3   ae0142cf-58e4-408a-b2c3-950b9864f8e9   \n",
       "4   ae0142cf-58e4-408a-b2c3-950b9864f8e9   \n",
       "..                                   ...   \n",
       "90  6997daaa-6c04-4f95-84f8-000586c93ed0   \n",
       "91  6997daaa-6c04-4f95-84f8-000586c93ed0   \n",
       "92  6997daaa-6c04-4f95-84f8-000586c93ed0   \n",
       "93  6997daaa-6c04-4f95-84f8-000586c93ed0   \n",
       "94  6997daaa-6c04-4f95-84f8-000586c93ed0   \n",
       "\n",
       "                                             question          section  \\\n",
       "0   What is your current job title and where do yo...  Work Experience   \n",
       "1   Can you tell me about the location of your cur...  Work Experience   \n",
       "2           When did you start your current position?  Work Experience   \n",
       "3      Are you currently working as a Data Scientist?  Work Experience   \n",
       "4   What company are you employed with at the moment?  Work Experience   \n",
       "..                                                ...              ...   \n",
       "90  What courses did you take that are related to ...        Education   \n",
       "91  Can you list some of the subjects you studied ...        Education   \n",
       "92  Which programming concepts did you learn in yo...        Education   \n",
       "93  What foundational courses did you take in stat...        Education   \n",
       "94  How did your studies in object-oriented progra...        Education   \n",
       "\n",
       "      cosine  \n",
       "0   0.782146  \n",
       "1   0.760741  \n",
       "2   0.588890  \n",
       "3   0.724143  \n",
       "4   0.582434  \n",
       "..       ...  \n",
       "90  0.669786  \n",
       "91  0.370050  \n",
       "92  0.574704  \n",
       "93  0.434169  \n",
       "94  0.090166  \n",
       "\n",
       "[95 rows x 6 columns]"
      ]
     },
     "execution_count": 122,
     "metadata": {},
     "output_type": "execute_result"
    }
   ],
   "source": [
    "df_results_llama.drop(['cosine_qa','cosine_all'], axis=1)"
   ]
  },
  {
   "cell_type": "code",
   "execution_count": null,
   "id": "3bc327c7",
   "metadata": {},
   "outputs": [],
   "source": [
    "pip install seaborn"
   ]
  },
  {
   "cell_type": "code",
   "execution_count": 36,
   "id": "fa01f24d-9c69-4cc8-bb3d-f1a51b1375f1",
   "metadata": {},
   "outputs": [],
   "source": [
    "import seaborn as sns"
   ]
  },
  {
   "cell_type": "code",
   "execution_count": 38,
   "id": "430013b7-800b-44d7-aa54-31f9e684f19b",
   "metadata": {},
   "outputs": [],
   "source": [
    "import matplotlib.pyplot as plt"
   ]
  },
  {
   "cell_type": "code",
   "execution_count": 76,
   "id": "b4127a1c-db78-4c53-afde-d798f31a5d43",
   "metadata": {
    "scrolled": true
   },
   "outputs": [
    {
     "name": "stderr",
     "output_type": "stream",
     "text": [
      "C:\\Users\\Nida Khan\\AppData\\Local\\Temp\\ipykernel_22856\\1557422016.py:1: UserWarning: \n",
      "\n",
      "`distplot` is a deprecated function and will be removed in seaborn v0.14.0.\n",
      "\n",
      "Please adapt your code to use either `displot` (a figure-level function with\n",
      "similar flexibility) or `histplot` (an axes-level function for histograms).\n",
      "\n",
      "For a guide to updating your code to use the new functions, please see\n",
      "https://gist.github.com/mwaskom/de44147ed2974457ad6372750bbe5751\n",
      "\n",
      "  sns.distplot(df_results_llama['cosine_qa'], label='cosine_qa')\n",
      "C:\\Users\\Nida Khan\\AppData\\Local\\Temp\\ipykernel_22856\\1557422016.py:2: UserWarning: \n",
      "\n",
      "`distplot` is a deprecated function and will be removed in seaborn v0.14.0.\n",
      "\n",
      "Please adapt your code to use either `displot` (a figure-level function with\n",
      "similar flexibility) or `histplot` (an axes-level function for histograms).\n",
      "\n",
      "For a guide to updating your code to use the new functions, please see\n",
      "https://gist.github.com/mwaskom/de44147ed2974457ad6372750bbe5751\n",
      "\n",
      "  sns.distplot(df_results_llama['cosine_all'], label='cosine_all')\n",
      "C:\\Users\\Nida Khan\\AppData\\Local\\Temp\\ipykernel_22856\\1557422016.py:3: UserWarning: \n",
      "\n",
      "`distplot` is a deprecated function and will be removed in seaborn v0.14.0.\n",
      "\n",
      "Please adapt your code to use either `displot` (a figure-level function with\n",
      "similar flexibility) or `histplot` (an axes-level function for histograms).\n",
      "\n",
      "For a guide to updating your code to use the new functions, please see\n",
      "https://gist.github.com/mwaskom/de44147ed2974457ad6372750bbe5751\n",
      "\n",
      "  sns.distplot(df_results_llama['cosine'], label='cosine')\n"
     ]
    },
    {
     "data": {
      "text/plain": [
       "<matplotlib.legend.Legend at 0x26190466da0>"
      ]
     },
     "execution_count": 76,
     "metadata": {},
     "output_type": "execute_result"
    },
    {
     "data": {
      "image/png": "[encoded data removed]",
      "text/plain": [
       "<Figure size 640x480 with 1 Axes>"
      ]
     },
     "metadata": {},
     "output_type": "display_data"
    }
   ],
   "source": [
    "sns.distplot(df_results_llama['cosine_qa'], label='cosine_qa')\n",
    "sns.distplot(df_results_llama['cosine_all'], label='cosine_all')\n",
    "sns.distplot(df_results_llama['cosine'], label='cosine')\n",
    "\n",
    "plt.title(\"RAG LLM performance\")\n",
    "plt.xlabel(\"A->Q->A' Cosine Similarity\")\n",
    "plt.legend()"
   ]
  },
  {
   "cell_type": "markdown",
   "id": "8aa3b2ea-8f84-4eb2-adae-a535aee50a55",
   "metadata": {
    "jp-MarkdownHeadingCollapsed": true
   },
   "source": [
    "### llama-3.1-8b-instant"
   ]
  },
  {
   "cell_type": "code",
   "execution_count": 82,
   "id": "5fcfed71-b503-4fcc-bef6-b7239cb423ad",
   "metadata": {},
   "outputs": [],
   "source": [
    "answers = {}"
   ]
  },
  {
   "cell_type": "code",
   "execution_count": 83,
   "id": "9677eb31-6125-43b7-8358-22b6c7b370a2",
   "metadata": {},
   "outputs": [
    {
     "data": {
      "application/vnd.jupyter.widget-view+json": {
       "model_id": "93a06471993242bcb41b596e49f1dcc3",
       "version_major": 2,
       "version_minor": 0
      },
      "text/plain": [
       "  0%|          | 0/95 [00:00<?, ?it/s]"
      ]
     },
     "metadata": {},
     "output_type": "display_data"
    }
   ],
   "source": [
    "for i, rec in enumerate(tqdm(ground_truth)):\n",
    "    if i in answers:\n",
    "        continue\n",
    "    #print(rec['question'])\n",
    "    answer_llm = rag(rec['question'], llm_model=\"llama-3.1-8b-instant\")\n",
    "    doc_id = rec['doc_id']\n",
    "    original_doc = doc_idx[doc_id]\n",
    "    answer_orig = original_doc['text']\n",
    "\n",
    "    answers[i] = {\n",
    "        'answer_llm': answer_llm,\n",
    "        'answer_orig': answer_orig,\n",
    "        'doc_id': doc_id,\n",
    "        'question': rec['question'],\n",
    "        'section': rec['section'],\n",
    "    }"
   ]
  },
  {
   "cell_type": "code",
   "execution_count": 100,
   "id": "a450720e-93b6-41ba-a918-de9a67674f34",
   "metadata": {},
   "outputs": [],
   "source": [
    "df_results = pd.DataFrame(answers.values())#.sample(5).to_dict(orient='records')\n",
    "#os.makedirs('data', exist_ok=True)\n",
    "#df_results.to_csv('data/results_llama-3.1-8b-instant.csv', index=False)"
   ]
  },
  {
   "cell_type": "code",
   "execution_count": null,
   "id": "afba87e5-cc2c-406c-bd4d-04844f537fc9",
   "metadata": {},
   "outputs": [],
   "source": [
    "df_results = pd.read_csv('data/results_llama-3.3-70b-versatile.csv')"
   ]
  },
  {
   "cell_type": "code",
   "execution_count": 87,
   "id": "c5f3ce01-4bb4-4e2c-8830-a8b7ddc3be9e",
   "metadata": {},
   "outputs": [],
   "source": [
    "#df_results = df_results.to_dict(orient='records')"
   ]
  },
  {
   "cell_type": "code",
   "execution_count": 88,
   "id": "48e8992d-f043-4099-ad66-c8704016d9e3",
   "metadata": {},
   "outputs": [
    {
     "data": {
      "application/vnd.jupyter.widget-view+json": {
       "model_id": "c209ffe41d114723bdcd9eda630817f3",
       "version_major": 2,
       "version_minor": 0
      },
      "text/plain": [
       "  0%|          | 0/95 [00:00<?, ?it/s]"
      ]
     },
     "metadata": {},
     "output_type": "display_data"
    }
   ],
   "source": [
    "similarity = []\n",
    "\n",
    "for record in tqdm(df_results):\n",
    "    sim = compute_similarity(record)\n",
    "    similarity.append(sim)"
   ]
  },
  {
   "cell_type": "code",
   "execution_count": 110,
   "id": "7689d61d-2d40-4cb6-b975-cae6e5d515c4",
   "metadata": {},
   "outputs": [
    {
     "data": {
      "text/html": [
       "<div>\n",
       "<style scoped>\n",
       "    .dataframe tbody tr th:only-of-type {\n",
       "        vertical-align: middle;\n",
       "    }\n",
       "\n",
       "    .dataframe tbody tr th {\n",
       "        vertical-align: top;\n",
       "    }\n",
       "\n",
       "    .dataframe thead th {\n",
       "        text-align: right;\n",
       "    }\n",
       "</style>\n",
       "<table border=\"1\" class=\"dataframe\">\n",
       "  <thead>\n",
       "    <tr style=\"text-align: right;\">\n",
       "      <th></th>\n",
       "      <th>count</th>\n",
       "      <th>mean</th>\n",
       "      <th>std</th>\n",
       "      <th>min</th>\n",
       "      <th>25%</th>\n",
       "      <th>50%</th>\n",
       "      <th>75%</th>\n",
       "      <th>max</th>\n",
       "    </tr>\n",
       "    <tr>\n",
       "      <th>section</th>\n",
       "      <th></th>\n",
       "      <th></th>\n",
       "      <th></th>\n",
       "      <th></th>\n",
       "      <th></th>\n",
       "      <th></th>\n",
       "      <th></th>\n",
       "      <th></th>\n",
       "    </tr>\n",
       "  </thead>\n",
       "  <tbody>\n",
       "    <tr>\n",
       "      <th>Education</th>\n",
       "      <td>10.0</td>\n",
       "      <td>0.551157</td>\n",
       "      <td>0.135180</td>\n",
       "      <td>0.209889</td>\n",
       "      <td>0.553061</td>\n",
       "      <td>0.581034</td>\n",
       "      <td>0.619167</td>\n",
       "      <td>0.677186</td>\n",
       "    </tr>\n",
       "    <tr>\n",
       "      <th>Projects</th>\n",
       "      <td>10.0</td>\n",
       "      <td>0.661562</td>\n",
       "      <td>0.228723</td>\n",
       "      <td>0.064837</td>\n",
       "      <td>0.647266</td>\n",
       "      <td>0.690888</td>\n",
       "      <td>0.764055</td>\n",
       "      <td>0.896328</td>\n",
       "    </tr>\n",
       "    <tr>\n",
       "      <th>Skills</th>\n",
       "      <td>5.0</td>\n",
       "      <td>0.473606</td>\n",
       "      <td>0.121589</td>\n",
       "      <td>0.315682</td>\n",
       "      <td>0.416995</td>\n",
       "      <td>0.483207</td>\n",
       "      <td>0.505718</td>\n",
       "      <td>0.646428</td>\n",
       "    </tr>\n",
       "    <tr>\n",
       "      <th>Work Experience</th>\n",
       "      <td>70.0</td>\n",
       "      <td>0.602707</td>\n",
       "      <td>0.209640</td>\n",
       "      <td>-0.045038</td>\n",
       "      <td>0.516511</td>\n",
       "      <td>0.639194</td>\n",
       "      <td>0.758682</td>\n",
       "      <td>0.930186</td>\n",
       "    </tr>\n",
       "  </tbody>\n",
       "</table>\n",
       "</div>"
      ],
      "text/plain": [
       "                 count      mean       std       min       25%       50%  \\\n",
       "section                                                                    \n",
       "Education         10.0  0.551157  0.135180  0.209889  0.553061  0.581034   \n",
       "Projects          10.0  0.661562  0.228723  0.064837  0.647266  0.690888   \n",
       "Skills             5.0  0.473606  0.121589  0.315682  0.416995  0.483207   \n",
       "Work Experience   70.0  0.602707  0.209640 -0.045038  0.516511  0.639194   \n",
       "\n",
       "                      75%       max  \n",
       "section                              \n",
       "Education        0.619167  0.677186  \n",
       "Projects         0.764055  0.896328  \n",
       "Skills           0.505718  0.646428  \n",
       "Work Experience  0.758682  0.930186  "
      ]
     },
     "execution_count": 110,
     "metadata": {},
     "output_type": "execute_result"
    }
   ],
   "source": [
    "# df_results['cosine_all'] = similarity\n",
    "# df_results['cosine_all'].describe()\n",
    "df_results.groupby('section')['cosine_all'].describe()"
   ]
  },
  {
   "cell_type": "code",
   "execution_count": 103,
   "id": "4842c8f3-9eb9-4e85-bada-af53535e6372",
   "metadata": {},
   "outputs": [],
   "source": [
    "import pandas as pd\n",
    "from tqdm import tqdm\n",
    "\n",
    "def evaluate_rag_model(llm_model, ground_truth, doc_idx, rag, compute_similarity):\n",
    "    \"\"\"\n",
    "    Evaluates a RAG model on a set of ground truth questions.\n",
    "    \n",
    "    Parameters:\n",
    "        llm_model (str): The name of the LLM model to use.\n",
    "        ground_truth (list): A list of records with 'question', 'doc_id', and 'section'.\n",
    "        doc_idx (dict): A mapping from doc_id to original documents with 'text'.\n",
    "        rag (function): The RAG function that accepts a question and llm_model, and returns an answer.\n",
    "        compute_similarity (function): A function to compute similarity between RAG answer and ground truth.\n",
    "    \n",
    "    Returns:\n",
    "        pd.DataFrame: DataFrame with questions, original answers, model answers, and similarity scores.\n",
    "    \"\"\"\n",
    "    answers = {}\n",
    "\n",
    "    for i, rec in enumerate(tqdm(ground_truth)):\n",
    "        if i in answers:\n",
    "            continue\n",
    "\n",
    "        answer_llm = rag(rec['question'], llm_model=llm_model)\n",
    "        doc_id = rec['doc_id']\n",
    "        answer_orig = doc_idx[doc_id]['text']\n",
    "\n",
    "        answers[i] = {\n",
    "            'answer_llm': answer_llm,\n",
    "            'answer_orig': answer_orig,\n",
    "            'doc_id': doc_id,\n",
    "            'question': rec['question'],\n",
    "            'section': rec['section'],\n",
    "        }\n",
    "\n",
    "    df_results = pd.DataFrame(answers.values())\n",
    "\n",
    "    similarity = []\n",
    "    for _, record in tqdm(df_results.iterrows(), total=len(df_results)):\n",
    "        sim = compute_similarity(record)\n",
    "        similarity.append(sim)\n",
    "\n",
    "    df_results['cosine_all'] = similarity\n",
    "    return df_results\n"
   ]
  },
  {
   "cell_type": "markdown",
   "id": "7fb6ef78-4f09-434b-91ba-25651aba2714",
   "metadata": {
    "jp-MarkdownHeadingCollapsed": true
   },
   "source": [
    "### gemma2-9b-it"
   ]
  },
  {
   "cell_type": "code",
   "execution_count": 104,
   "id": "8cbc7706-30f3-46f2-8c71-495b2a5be000",
   "metadata": {},
   "outputs": [
    {
     "name": "stderr",
     "output_type": "stream",
     "text": [
      "100%|██████████| 95/95 [03:19<00:00,  2.10s/it]\n",
      "100%|██████████| 95/95 [00:08<00:00, 11.09it/s]\n"
     ]
    }
   ],
   "source": [
    "df_gemma2 = evaluate_rag_model(\n",
    "    llm_model=\"gemma2-9b-it\",\n",
    "    ground_truth=ground_truth,\n",
    "    doc_idx=doc_idx,\n",
    "    rag=rag,\n",
    "    compute_similarity=compute_similarity\n",
    ")"
   ]
  },
  {
   "cell_type": "code",
   "execution_count": 119,
   "id": "b0a32993-6e4b-4cc4-a3b8-da8efde0d957",
   "metadata": {},
   "outputs": [],
   "source": [
    "df_gemma2.to_csv('data/results_gemma2-9b-it.csv', index=False)"
   ]
  },
  {
   "cell_type": "code",
   "execution_count": 106,
   "id": "05d3091e-4c77-4d60-b8bd-21ead4d22c16",
   "metadata": {},
   "outputs": [
    {
     "data": {
      "text/html": [
       "<div>\n",
       "<style scoped>\n",
       "    .dataframe tbody tr th:only-of-type {\n",
       "        vertical-align: middle;\n",
       "    }\n",
       "\n",
       "    .dataframe tbody tr th {\n",
       "        vertical-align: top;\n",
       "    }\n",
       "\n",
       "    .dataframe thead th {\n",
       "        text-align: right;\n",
       "    }\n",
       "</style>\n",
       "<table border=\"1\" class=\"dataframe\">\n",
       "  <thead>\n",
       "    <tr style=\"text-align: right;\">\n",
       "      <th></th>\n",
       "      <th>count</th>\n",
       "      <th>mean</th>\n",
       "      <th>std</th>\n",
       "      <th>min</th>\n",
       "      <th>25%</th>\n",
       "      <th>50%</th>\n",
       "      <th>75%</th>\n",
       "      <th>max</th>\n",
       "    </tr>\n",
       "    <tr>\n",
       "      <th>section</th>\n",
       "      <th></th>\n",
       "      <th></th>\n",
       "      <th></th>\n",
       "      <th></th>\n",
       "      <th></th>\n",
       "      <th></th>\n",
       "      <th></th>\n",
       "      <th></th>\n",
       "    </tr>\n",
       "  </thead>\n",
       "  <tbody>\n",
       "    <tr>\n",
       "      <th>Education</th>\n",
       "      <td>10.0</td>\n",
       "      <td>0.503161</td>\n",
       "      <td>0.223358</td>\n",
       "      <td>0.090166</td>\n",
       "      <td>0.337843</td>\n",
       "      <td>0.563621</td>\n",
       "      <td>0.665644</td>\n",
       "      <td>0.763620</td>\n",
       "    </tr>\n",
       "    <tr>\n",
       "      <th>Projects</th>\n",
       "      <td>10.0</td>\n",
       "      <td>0.694199</td>\n",
       "      <td>0.207173</td>\n",
       "      <td>0.218855</td>\n",
       "      <td>0.679453</td>\n",
       "      <td>0.775053</td>\n",
       "      <td>0.814077</td>\n",
       "      <td>0.868046</td>\n",
       "    </tr>\n",
       "    <tr>\n",
       "      <th>Skills</th>\n",
       "      <td>5.0</td>\n",
       "      <td>0.460016</td>\n",
       "      <td>0.157854</td>\n",
       "      <td>0.218194</td>\n",
       "      <td>0.432589</td>\n",
       "      <td>0.475481</td>\n",
       "      <td>0.523666</td>\n",
       "      <td>0.650151</td>\n",
       "    </tr>\n",
       "    <tr>\n",
       "      <th>Work Experience</th>\n",
       "      <td>70.0</td>\n",
       "      <td>0.625984</td>\n",
       "      <td>0.320942</td>\n",
       "      <td>-0.061153</td>\n",
       "      <td>0.459322</td>\n",
       "      <td>0.712221</td>\n",
       "      <td>0.865900</td>\n",
       "      <td>1.000000</td>\n",
       "    </tr>\n",
       "  </tbody>\n",
       "</table>\n",
       "</div>"
      ],
      "text/plain": [
       "                 count      mean       std       min       25%       50%  \\\n",
       "section                                                                    \n",
       "Education         10.0  0.503161  0.223358  0.090166  0.337843  0.563621   \n",
       "Projects          10.0  0.694199  0.207173  0.218855  0.679453  0.775053   \n",
       "Skills             5.0  0.460016  0.157854  0.218194  0.432589  0.475481   \n",
       "Work Experience   70.0  0.625984  0.320942 -0.061153  0.459322  0.712221   \n",
       "\n",
       "                      75%       max  \n",
       "section                              \n",
       "Education        0.665644  0.763620  \n",
       "Projects         0.814077  0.868046  \n",
       "Skills           0.523666  0.650151  \n",
       "Work Experience  0.865900  1.000000  "
      ]
     },
     "execution_count": 106,
     "metadata": {},
     "output_type": "execute_result"
    }
   ],
   "source": [
    "#df_gemma2['cosine_all'].describe()\n",
    "df_gemma2.groupby('section')['cosine_all'].describe()"
   ]
  },
  {
   "cell_type": "code",
   "execution_count": 118,
   "id": "b57fcf30-b1d1-4164-8285-19873d491b2d",
   "metadata": {},
   "outputs": [
    {
     "name": "stderr",
     "output_type": "stream",
     "text": [
      "C:\\Users\\Nida Khan\\AppData\\Local\\Temp\\ipykernel_22856\\3868433039.py:1: UserWarning: \n",
      "\n",
      "`distplot` is a deprecated function and will be removed in seaborn v0.14.0.\n",
      "\n",
      "Please adapt your code to use either `displot` (a figure-level function with\n",
      "similar flexibility) or `histplot` (an axes-level function for histograms).\n",
      "\n",
      "For a guide to updating your code to use the new functions, please see\n",
      "https://gist.github.com/mwaskom/de44147ed2974457ad6372750bbe5751\n",
      "\n",
      "  sns.distplot(df_results_llama['cosine_all'], label='llama-3.1-70b-versatile')\n",
      "C:\\Users\\Nida Khan\\AppData\\Local\\Temp\\ipykernel_22856\\3868433039.py:2: UserWarning: \n",
      "\n",
      "`distplot` is a deprecated function and will be removed in seaborn v0.14.0.\n",
      "\n",
      "Please adapt your code to use either `displot` (a figure-level function with\n",
      "similar flexibility) or `histplot` (an axes-level function for histograms).\n",
      "\n",
      "For a guide to updating your code to use the new functions, please see\n",
      "https://gist.github.com/mwaskom/de44147ed2974457ad6372750bbe5751\n",
      "\n",
      "  sns.distplot(df_results['cosine_all'], label='llama-3.1-8b-instant')\n",
      "C:\\Users\\Nida Khan\\AppData\\Local\\Temp\\ipykernel_22856\\3868433039.py:3: UserWarning: \n",
      "\n",
      "`distplot` is a deprecated function and will be removed in seaborn v0.14.0.\n",
      "\n",
      "Please adapt your code to use either `displot` (a figure-level function with\n",
      "similar flexibility) or `histplot` (an axes-level function for histograms).\n",
      "\n",
      "For a guide to updating your code to use the new functions, please see\n",
      "https://gist.github.com/mwaskom/de44147ed2974457ad6372750bbe5751\n",
      "\n",
      "  sns.distplot(df_gemma2['cosine_all'], label='gemma2-9b-it')\n"
     ]
    },
    {
     "data": {
      "text/plain": [
       "<matplotlib.legend.Legend at 0x26194fa26e0>"
      ]
     },
     "execution_count": 118,
     "metadata": {},
     "output_type": "execute_result"
    },
    {
     "data": {
      "image/png": "[encoded data removed]",
      "text/plain": [
       "<Figure size 640x480 with 1 Axes>"
      ]
     },
     "metadata": {},
     "output_type": "display_data"
    }
   ],
   "source": [
    "sns.distplot(df_results_llama['cosine_all'], label='llama-3.1-70b-versatile')\n",
    "sns.distplot(df_results['cosine_all'], label='llama-3.1-8b-instant')\n",
    "sns.distplot(df_gemma2['cosine_all'], label='gemma2-9b-it')\n",
    "#sns.distplot(df_mistral['cosine_all'], label='mistral-saba-24b')\n",
    "#sns.distplot(df_results_llama['cosine'], label='cosine')\n",
    "\n",
    "plt.title(\"RAG LLM performance\")\n",
    "plt.xlabel(\"A->Q->A' Cosine Similarity\")\n",
    "plt.legend()"
   ]
  },
  {
   "cell_type": "markdown",
   "id": "c94fad54-a913-44d7-b08f-7525acb77537",
   "metadata": {
    "jp-MarkdownHeadingCollapsed": true
   },
   "source": [
    "### mistral-saba-24b"
   ]
  },
  {
   "cell_type": "code",
   "execution_count": 113,
   "id": "04e3b17a-3eb9-45f6-a8b8-4b07b48cc8fe",
   "metadata": {},
   "outputs": [
    {
     "name": "stderr",
     "output_type": "stream",
     "text": [
      "100%|██████████| 95/95 [04:55<00:00,  3.12s/it]\n",
      "100%|██████████| 95/95 [00:09<00:00,  9.90it/s]\n"
     ]
    }
   ],
   "source": [
    "df_mistral = evaluate_rag_model(\n",
    "    llm_model=\"mistral-saba-24b\",\n",
    "    ground_truth=ground_truth,\n",
    "    doc_idx=doc_idx,\n",
    "    rag=rag,\n",
    "    compute_similarity=compute_similarity\n",
    ")"
   ]
  },
  {
   "cell_type": "code",
   "execution_count": 116,
   "id": "ca358455-2d51-4a72-8335-1858b0ccec5a",
   "metadata": {},
   "outputs": [
    {
     "data": {
      "text/html": [
       "<div>\n",
       "<style scoped>\n",
       "    .dataframe tbody tr th:only-of-type {\n",
       "        vertical-align: middle;\n",
       "    }\n",
       "\n",
       "    .dataframe tbody tr th {\n",
       "        vertical-align: top;\n",
       "    }\n",
       "\n",
       "    .dataframe thead th {\n",
       "        text-align: right;\n",
       "    }\n",
       "</style>\n",
       "<table border=\"1\" class=\"dataframe\">\n",
       "  <thead>\n",
       "    <tr style=\"text-align: right;\">\n",
       "      <th></th>\n",
       "      <th>count</th>\n",
       "      <th>mean</th>\n",
       "      <th>std</th>\n",
       "      <th>min</th>\n",
       "      <th>25%</th>\n",
       "      <th>50%</th>\n",
       "      <th>75%</th>\n",
       "      <th>max</th>\n",
       "    </tr>\n",
       "    <tr>\n",
       "      <th>section</th>\n",
       "      <th></th>\n",
       "      <th></th>\n",
       "      <th></th>\n",
       "      <th></th>\n",
       "      <th></th>\n",
       "      <th></th>\n",
       "      <th></th>\n",
       "      <th></th>\n",
       "    </tr>\n",
       "  </thead>\n",
       "  <tbody>\n",
       "    <tr>\n",
       "      <th>Education</th>\n",
       "      <td>10.0</td>\n",
       "      <td>0.485864</td>\n",
       "      <td>0.267860</td>\n",
       "      <td>-0.000942</td>\n",
       "      <td>0.408138</td>\n",
       "      <td>0.557300</td>\n",
       "      <td>0.655563</td>\n",
       "      <td>0.813223</td>\n",
       "    </tr>\n",
       "    <tr>\n",
       "      <th>Projects</th>\n",
       "      <td>10.0</td>\n",
       "      <td>0.579671</td>\n",
       "      <td>0.365061</td>\n",
       "      <td>0.064837</td>\n",
       "      <td>0.204946</td>\n",
       "      <td>0.753559</td>\n",
       "      <td>0.846295</td>\n",
       "      <td>0.940708</td>\n",
       "    </tr>\n",
       "    <tr>\n",
       "      <th>Skills</th>\n",
       "      <td>5.0</td>\n",
       "      <td>0.464904</td>\n",
       "      <td>0.176297</td>\n",
       "      <td>0.202122</td>\n",
       "      <td>0.395336</td>\n",
       "      <td>0.480490</td>\n",
       "      <td>0.620331</td>\n",
       "      <td>0.626238</td>\n",
       "    </tr>\n",
       "    <tr>\n",
       "      <th>Work Experience</th>\n",
       "      <td>70.0</td>\n",
       "      <td>0.517540</td>\n",
       "      <td>0.312955</td>\n",
       "      <td>-0.061153</td>\n",
       "      <td>0.352017</td>\n",
       "      <td>0.602853</td>\n",
       "      <td>0.794357</td>\n",
       "      <td>0.951917</td>\n",
       "    </tr>\n",
       "  </tbody>\n",
       "</table>\n",
       "</div>"
      ],
      "text/plain": [
       "                 count      mean       std       min       25%       50%  \\\n",
       "section                                                                    \n",
       "Education         10.0  0.485864  0.267860 -0.000942  0.408138  0.557300   \n",
       "Projects          10.0  0.579671  0.365061  0.064837  0.204946  0.753559   \n",
       "Skills             5.0  0.464904  0.176297  0.202122  0.395336  0.480490   \n",
       "Work Experience   70.0  0.517540  0.312955 -0.061153  0.352017  0.602853   \n",
       "\n",
       "                      75%       max  \n",
       "section                              \n",
       "Education        0.655563  0.813223  \n",
       "Projects         0.846295  0.940708  \n",
       "Skills           0.620331  0.626238  \n",
       "Work Experience  0.794357  0.951917  "
      ]
     },
     "execution_count": 116,
     "metadata": {},
     "output_type": "execute_result"
    }
   ],
   "source": [
    "#df_mistral['cosine_all'].describe()\n",
    "df_mistral.groupby('section')['cosine_all'].describe()"
   ]
  },
  {
   "cell_type": "markdown",
   "id": "3021b9d4-6668-4668-9e9e-cf133e26b107",
   "metadata": {
    "jp-MarkdownHeadingCollapsed": true
   },
   "source": [
    "## LLM as-a-Judge"
   ]
  },
  {
   "cell_type": "code",
   "execution_count": 3,
   "id": "add2193c-58d5-4f13-8cfb-5e73cfecb0e5",
   "metadata": {},
   "outputs": [],
   "source": [
    "from rag_pipeline.rag import rag, vector_search, build_prompt, llm"
   ]
  },
  {
   "cell_type": "code",
   "execution_count": 5,
   "id": "9bbc0c46-745e-4551-b5fb-f3fce6857c59",
   "metadata": {},
   "outputs": [],
   "source": [
    "from openai import OpenAI\n",
    "from rag_pipeline.config import API_KEY, LLM_MODEL_DEFAULT"
   ]
  },
  {
   "cell_type": "code",
   "execution_count": 6,
   "id": "ab491d3d-6762-45b9-ac21-8ffac776e78a",
   "metadata": {},
   "outputs": [],
   "source": [
    "# openai api\n",
    "OPENAI_API_KEY=os.environ.get(\"OPENAI_API_KEY\")\n",
    "openai_client = OpenAI(\n",
    "    api_key=OPENAI_API_KEY\n",
    ")"
   ]
  },
  {
   "cell_type": "code",
   "execution_count": 7,
   "id": "7f39e87c-42ee-41ec-9373-365ec67d1658",
   "metadata": {},
   "outputs": [],
   "source": [
    "import pandas as pd\n",
    "df_results_llama = pd.read_csv('data/results_llama-3.3-70b-versatile.csv')"
   ]
  },
  {
   "cell_type": "code",
   "execution_count": 8,
   "id": "39007b65-4d0d-4a22-81d7-23985f97886a",
   "metadata": {},
   "outputs": [],
   "source": [
    "prompt1_template = \"\"\"\n",
    "You are an expert evaluator for RAG-generated answers.\n",
    "\n",
    "Given:\n",
    "- A question\n",
    "- A generated answer\n",
    "- The original resume information\n",
    "\n",
    "Evaluate whether the answer is:\n",
    "1. **Correct** – factually answers the question well\n",
    "2. **Grounded** – based only on the resume info provided\n",
    "\n",
    "Then assign a score using this rubric:\n",
    "\n",
    "Score 2 = Answer is correct AND grounded  \n",
    "Score 1 = Answer is either correct OR grounded (but not both)  \n",
    "Score 0 = Answer is neither correct nor grounded\n",
    "\n",
    "Also provide a short explanation.\n",
    "\n",
    "Format your output as JSON without code blocks:\n",
    "{{\n",
    "  \"score\": 0 | 1 | 2,\n",
    "  \"explanation\": \"short justification\"\n",
    "}}\n",
    "\n",
    "---\n",
    "\n",
    "QUESTION:\n",
    "{question}\n",
    "\n",
    "ANSWER:\n",
    "{answer_llm}\n",
    "\n",
    "REFERENCE (Resume Entry):\n",
    "{answer_orig}\n",
    "\"\"\".strip()"
   ]
  },
  {
   "cell_type": "code",
   "execution_count": 9,
   "id": "ac8e8e6e-625f-4f8f-ab2e-124bc50f61a3",
   "metadata": {},
   "outputs": [
    {
     "data": {
      "text/plain": [
       "'What is your current job title and where do you work?'"
      ]
     },
     "execution_count": 9,
     "metadata": {},
     "output_type": "execute_result"
    }
   ],
   "source": [
    "df_results_llama.loc[0, 'question']"
   ]
  },
  {
   "cell_type": "code",
   "execution_count": 10,
   "id": "5882145e-d48c-40c9-ab3b-9bef3ece1128",
   "metadata": {},
   "outputs": [],
   "source": [
    "pp = prompt1_template.format(\n",
    "        question=df_results_llama.loc[0, \"question\"],\n",
    "        answer_llm=df_results_llama.loc[0, \"answer_llm\"],\n",
    "        answer_orig=df_results_llama.loc[0, \"answer_orig\"]\n",
    "    )"
   ]
  },
  {
   "cell_type": "code",
   "execution_count": 11,
   "id": "778c9edd-46d0-4aa1-9656-d12480388d0a",
   "metadata": {},
   "outputs": [
    {
     "data": {
      "text/plain": [
       "ChatCompletion(id='chatcmpl-BwDQkX80Z1yxsbf60S1v2k1G2WLHe', choices=[Choice(finish_reason='stop', index=0, logprobs=None, message=ChatCompletionMessage(content='{\\n  \"score\": 2,\\n  \"explanation\": \"The answer is correct as it accurately states the job title and the company where the person works, and it is grounded in the provided resume information.\"\\n}', refusal=None, role='assistant', annotations=[], audio=None, function_call=None, tool_calls=None))], created=1753214350, model='gpt-4o-mini-2024-07-18', object='chat.completion', service_tier='default', system_fingerprint=None, usage=CompletionUsage(completion_tokens=44, prompt_tokens=217, total_tokens=261, completion_tokens_details=CompletionTokensDetails(accepted_prediction_tokens=0, audio_tokens=0, reasoning_tokens=0, rejected_prediction_tokens=0), prompt_tokens_details=PromptTokensDetails(audio_tokens=0, cached_tokens=0)))"
      ]
     },
     "execution_count": 11,
     "metadata": {},
     "output_type": "execute_result"
    }
   ],
   "source": [
    "openai_client.chat.completions.create(\n",
    "                model='gpt-4o-mini',\n",
    "                messages=[{\"role\": \"user\", \"content\": pp}]\n",
    "            )"
   ]
  },
  {
   "cell_type": "code",
   "execution_count": 12,
   "id": "c6aae448-b80a-49c2-a502-2af48bd8b7d0",
   "metadata": {},
   "outputs": [],
   "source": [
    "# response = openai_client.chat.completions.create(\n",
    "#                 model='gpt-4o-mini',\n",
    "#                 messages=[{\"role\": \"user\", \"content\": pp}]\n",
    "#             )\n",
    "# content = response.choices[0].message.content\n",
    "# cc = json.loads(content)"
   ]
  },
  {
   "cell_type": "code",
   "execution_count": 13,
   "id": "ad819be5-ef02-4b64-96f4-32e8b29f3692",
   "metadata": {},
   "outputs": [],
   "source": [
    "import json\n",
    "\n",
    "def evaluate_row(row):\n",
    "    prompt = prompt1_template.format(\n",
    "        question=row[\"question\"],\n",
    "        answer_llm=row[\"answer_llm\"],\n",
    "        answer_orig=row[\"answer_orig\"]\n",
    "    )\n",
    "    \n",
    "    # Call to openAI API\n",
    "    try:\n",
    "        response = openai_client.chat.completions.create(\n",
    "                model='gpt-4o-mini',\n",
    "                messages=[{\"role\": \"user\", \"content\": prompt}]\n",
    "            )\n",
    "        content = response.choices[0].message.content\n",
    "        result = json.loads(content)\n",
    "\n",
    "        return pd.Series({\n",
    "            \"score_llm_eval\": result.get(\"score\"),\n",
    "            \"judge_explanation\": result.get(\"explanation\")\n",
    "        })\n",
    "\n",
    "    except Exception as e:\n",
    "        return pd.Series({\n",
    "            \"score_llm_eval\": None,\n",
    "            \"judge_explanation\": f\"Error: {str(e)}\"\n",
    "        })\n"
   ]
  },
  {
   "cell_type": "code",
   "execution_count": 14,
   "id": "efd31aa1-30b8-4879-bd82-6858a59fabb7",
   "metadata": {},
   "outputs": [
    {
     "data": {
      "application/vnd.jupyter.widget-view+json": {
       "model_id": "6502281ce13b41b192f5bf7c98fcae9c",
       "version_major": 2,
       "version_minor": 0
      },
      "text/plain": [
       "  0%|          | 0/95 [00:00<?, ?it/s]"
      ]
     },
     "metadata": {},
     "output_type": "display_data"
    }
   ],
   "source": [
    "from tqdm.notebook import tqdm\n",
    "tqdm.pandas()\n",
    "\n",
    "df_results_llama[[\"score_llm_eval\", \"judge_explanation\"]] = df_results_llama.progress_apply(evaluate_row, axis=1)"
   ]
  },
  {
   "cell_type": "code",
   "execution_count": 16,
   "id": "e011e4d3-0e5b-4297-a2fd-8047072e7581",
   "metadata": {},
   "outputs": [
    {
     "data": {
      "text/plain": [
       "score_llm_eval\n",
       "2    70\n",
       "1    18\n",
       "0     7\n",
       "Name: count, dtype: int64"
      ]
     },
     "execution_count": 16,
     "metadata": {},
     "output_type": "execute_result"
    }
   ],
   "source": [
    "# for llama-3.3-70b-versatile only, (gpt 40 mini used as llm judge)\n",
    "df_results_llama['score_llm_eval'].value_counts()"
   ]
  },
  {
   "cell_type": "code",
   "execution_count": 57,
   "id": "04ba163c-5f82-4569-b7af-2f455af0a935",
   "metadata": {},
   "outputs": [
    {
     "data": {
      "text/html": [
       "<div>\n",
       "<style scoped>\n",
       "    .dataframe tbody tr th:only-of-type {\n",
       "        vertical-align: middle;\n",
       "    }\n",
       "\n",
       "    .dataframe tbody tr th {\n",
       "        vertical-align: top;\n",
       "    }\n",
       "\n",
       "    .dataframe thead th {\n",
       "        text-align: right;\n",
       "    }\n",
       "</style>\n",
       "<table border=\"1\" class=\"dataframe\">\n",
       "  <thead>\n",
       "    <tr style=\"text-align: right;\">\n",
       "      <th></th>\n",
       "      <th>answer_llm</th>\n",
       "      <th>answer_orig</th>\n",
       "      <th>doc_id</th>\n",
       "      <th>question</th>\n",
       "      <th>section</th>\n",
       "      <th>cosine</th>\n",
       "      <th>score_llm_eval</th>\n",
       "      <th>judge_explanation</th>\n",
       "    </tr>\n",
       "  </thead>\n",
       "  <tbody>\n",
       "    <tr>\n",
       "      <th>0</th>\n",
       "      <td>Your current job title is Data Scientist, and ...</td>\n",
       "      <td>Work Experience\\nSecuriti, Karachi, Pakistan\\t...</td>\n",
       "      <td>ae0142cf-58e4-408a-b2c3-950b9864f8e9</td>\n",
       "      <td>What is your current job title and where do yo...</td>\n",
       "      <td>Work Experience</td>\n",
       "      <td>0.782146</td>\n",
       "      <td>2</td>\n",
       "      <td>The answer correctly states that the current j...</td>\n",
       "    </tr>\n",
       "    <tr>\n",
       "      <th>1</th>\n",
       "      <td>The location of your current workplace is Kara...</td>\n",
       "      <td>Work Experience\\nSecuriti, Karachi, Pakistan\\t...</td>\n",
       "      <td>ae0142cf-58e4-408a-b2c3-950b9864f8e9</td>\n",
       "      <td>Can you tell me about the location of your cur...</td>\n",
       "      <td>Work Experience</td>\n",
       "      <td>0.760741</td>\n",
       "      <td>2</td>\n",
       "      <td>The answer accurately states the location of t...</td>\n",
       "    </tr>\n",
       "    <tr>\n",
       "      <th>2</th>\n",
       "      <td>The candidate started their current position a...</td>\n",
       "      <td>Work Experience\\nSecuriti, Karachi, Pakistan\\t...</td>\n",
       "      <td>ae0142cf-58e4-408a-b2c3-950b9864f8e9</td>\n",
       "      <td>When did you start your current position?</td>\n",
       "      <td>Work Experience</td>\n",
       "      <td>0.588890</td>\n",
       "      <td>2</td>\n",
       "      <td>The answer correctly states the start date of ...</td>\n",
       "    </tr>\n",
       "    <tr>\n",
       "      <th>3</th>\n",
       "      <td>Yes, according to the resume, the candidate is...</td>\n",
       "      <td>Work Experience\\nSecuriti, Karachi, Pakistan\\t...</td>\n",
       "      <td>ae0142cf-58e4-408a-b2c3-950b9864f8e9</td>\n",
       "      <td>Are you currently working as a Data Scientist?</td>\n",
       "      <td>Work Experience</td>\n",
       "      <td>0.724143</td>\n",
       "      <td>2</td>\n",
       "      <td>The answer is correct because it accurately st...</td>\n",
       "    </tr>\n",
       "    <tr>\n",
       "      <th>4</th>\n",
       "      <td>The company you are employed with at the momen...</td>\n",
       "      <td>Work Experience\\nSecuriti, Karachi, Pakistan\\t...</td>\n",
       "      <td>ae0142cf-58e4-408a-b2c3-950b9864f8e9</td>\n",
       "      <td>What company are you employed with at the moment?</td>\n",
       "      <td>Work Experience</td>\n",
       "      <td>0.582434</td>\n",
       "      <td>2</td>\n",
       "      <td>The answer is correct because it states the cu...</td>\n",
       "    </tr>\n",
       "  </tbody>\n",
       "</table>\n",
       "</div>"
      ],
      "text/plain": [
       "                                          answer_llm  \\\n",
       "0  Your current job title is Data Scientist, and ...   \n",
       "1  The location of your current workplace is Kara...   \n",
       "2  The candidate started their current position a...   \n",
       "3  Yes, according to the resume, the candidate is...   \n",
       "4  The company you are employed with at the momen...   \n",
       "\n",
       "                                         answer_orig  \\\n",
       "0  Work Experience\\nSecuriti, Karachi, Pakistan\\t...   \n",
       "1  Work Experience\\nSecuriti, Karachi, Pakistan\\t...   \n",
       "2  Work Experience\\nSecuriti, Karachi, Pakistan\\t...   \n",
       "3  Work Experience\\nSecuriti, Karachi, Pakistan\\t...   \n",
       "4  Work Experience\\nSecuriti, Karachi, Pakistan\\t...   \n",
       "\n",
       "                                 doc_id  \\\n",
       "0  ae0142cf-58e4-408a-b2c3-950b9864f8e9   \n",
       "1  ae0142cf-58e4-408a-b2c3-950b9864f8e9   \n",
       "2  ae0142cf-58e4-408a-b2c3-950b9864f8e9   \n",
       "3  ae0142cf-58e4-408a-b2c3-950b9864f8e9   \n",
       "4  ae0142cf-58e4-408a-b2c3-950b9864f8e9   \n",
       "\n",
       "                                            question          section  \\\n",
       "0  What is your current job title and where do yo...  Work Experience   \n",
       "1  Can you tell me about the location of your cur...  Work Experience   \n",
       "2          When did you start your current position?  Work Experience   \n",
       "3     Are you currently working as a Data Scientist?  Work Experience   \n",
       "4  What company are you employed with at the moment?  Work Experience   \n",
       "\n",
       "     cosine  score_llm_eval                                  judge_explanation  \n",
       "0  0.782146               2  The answer correctly states that the current j...  \n",
       "1  0.760741               2  The answer accurately states the location of t...  \n",
       "2  0.588890               2  The answer correctly states the start date of ...  \n",
       "3  0.724143               2  The answer is correct because it accurately st...  \n",
       "4  0.582434               2  The answer is correct because it states the cu...  "
      ]
     },
     "execution_count": 57,
     "metadata": {},
     "output_type": "execute_result"
    }
   ],
   "source": [
    "df_results_llama.head()#['score_llm_eval'].value_counts()"
   ]
  },
  {
   "cell_type": "markdown",
   "id": "31e15d6d-97b7-49cd-a272-95ddb15e2e8d",
   "metadata": {},
   "source": [
    "# Evaluate Retrieval"
   ]
  },
  {
   "cell_type": "markdown",
   "id": "1e73eb9a-206c-4c2f-ba9f-d80f998a6732",
   "metadata": {
    "jp-MarkdownHeadingCollapsed": true
   },
   "source": [
    "## Hit@K (Retrieval)"
   ]
  },
  {
   "cell_type": "code",
   "execution_count": 31,
   "id": "f3dc0086-b4be-4d4e-8bf4-6098f8ba60cb",
   "metadata": {},
   "outputs": [],
   "source": [
    "# if you included doc_id in the payload during qdratn_setup step, doc_id is more robust:\n",
    "# in qdrant_setup:\n",
    "# point = models.PointStruct(\n",
    "#     id=doc[\"id\"],  # This is Qdrant's internal ID\n",
    "#     vector=models.Document(text=doc[\"text\"], model=model_handle),\n",
    "#     payload={\n",
    "#         \"text\": doc[\"text\"],\n",
    "#         \"section\": doc[\"metadata\"][\"section\"],\n",
    "#         \"doc_id\": doc[\"id\"]  ---> This makes it available in vector_search output\n",
    "#     }\n",
    "# )\n",
    "\n",
    "\n",
    "# then you can match on doc_id instead:\n",
    "# hit_scores = []\n",
    "\n",
    "# for i, row in tqdm(df_results_llama.iterrows(), total=len(df_results_llama)):\n",
    "    \n",
    "#     question = row['question']\n",
    "#     ground_truth_doc_id = row['doc_id']\n",
    "#     # Get top-5 retrieved results\n",
    "#     retrieved_docs = vector_search(question, limit=5)  # returns list of dicts with \"doc_id\"\n",
    "\n",
    "#     # Check if the correct doc_id is among them\n",
    "#     retrieved_ids = [doc['doc_id'] for doc in retrieved_docs]\n",
    "#     hit = int(ground_truth_doc_id in retrieved_ids)\n",
    "\n",
    "#     hit_scores.append(hit)\n",
    "\n",
    "# # Compute Hit@5\n",
    "# hit_at_5 = sum(hit_scores) / len(hit_scores)\n",
    "# print(f\"Hit@5: {hit_at_5:.3f}\")\n"
   ]
  },
  {
   "cell_type": "code",
   "execution_count": 29,
   "id": "48d4d2b3-0218-4418-b200-c526b3b1071c",
   "metadata": {},
   "outputs": [
    {
     "name": "stdout",
     "output_type": "stream",
     "text": [
      "Hit@5: 0.811\n"
     ]
    }
   ],
   "source": [
    "from tqdm import tqdm\n",
    "\n",
    "hit_scores = []\n",
    "\n",
    "for i, row in tqdm(df_results_llama.iterrows(), total=len(df_results_llama)):\n",
    "    question = row['question']\n",
    "    true_text = row['answer_orig'].strip()\n",
    "\n",
    "    retrieved = vector_search(question, limit=5)\n",
    "    retrieved_texts = [doc.get('text', '').strip() for doc in retrieved]\n",
    "\n",
    "    # Compare true answer against top-5 retrieved\n",
    "    hit = int(true_text in retrieved_texts)\n",
    "    hit_scores.append(hit)\n",
    "\n",
    "df['hit@5'] = hit_scores\n",
    "hit_at_5 = sum(hit_scores) / len(hit_scores)\n",
    "print(f\"Hit@5: {hit_at_5:.3f}\")"
   ]
  },
  {
   "cell_type": "code",
   "execution_count": 32,
   "id": "45f74919-17d1-4674-9e9a-6d956f9bbecd",
   "metadata": {},
   "outputs": [],
   "source": [
    "def compute_hit_k(df, k=5, vector_search_fn=None):\n",
    "    \"\"\"\n",
    "    Computes Hit@k for a given dataframe using answer_orig as ground truth.\n",
    "    \n",
    "    Args:\n",
    "        df (pd.DataFrame): DataFrame with 'question' and 'answer_orig' columns.\n",
    "        k (int): Number of top results to check.\n",
    "        vector_search_fn (callable): Function to retrieve top-k documents for a question.\n",
    "    \n",
    "    Returns:\n",
    "        List[int]: 1 if correct doc in top-k, else 0.\n",
    "    \"\"\"\n",
    "    hits = []\n",
    "    for _, row in df.iterrows():\n",
    "        question = row['question']\n",
    "        answer = row['answer_orig'].strip()\n",
    "\n",
    "        results = vector_search_fn(question, limit=k)\n",
    "        retrieved_texts = [doc.get(\"text\", \"\").strip() for doc in results]\n",
    "\n",
    "        hit = int(answer in retrieved_texts)\n",
    "        hits.append(hit)\n",
    "\n",
    "    return hits"
   ]
  },
  {
   "cell_type": "code",
   "execution_count": 45,
   "id": "083aa2a9-2ca7-422b-9306-4f24352c6387",
   "metadata": {},
   "outputs": [],
   "source": [
    "# for llama-3.3-70b-versatile\n",
    "hit_at_1 = compute_hit_k(df_results_llama, k=1, vector_search_fn=vector_search)\n",
    "hit_at_3 = compute_hit_k(df_results_llama, k=3, vector_search_fn=vector_search)\n",
    "hit_at_5 = compute_hit_k(df_results_llama, k=5, vector_search_fn=vector_search)"
   ]
  },
  {
   "cell_type": "code",
   "execution_count": 46,
   "id": "44739ebb-21e6-4f32-afa0-add350f9a391",
   "metadata": {},
   "outputs": [
    {
     "name": "stdout",
     "output_type": "stream",
     "text": [
      "0.6\n",
      "0.7894736842105263\n",
      "0.8105263157894737\n"
     ]
    }
   ],
   "source": [
    "import numpy as np\n",
    "print(np.mean(hit_at_1))\n",
    "print(np.mean(hit_at_3))\n",
    "print(np.mean(hit_at_5))"
   ]
  },
  {
   "cell_type": "markdown",
   "id": "9213c607-7be2-40d4-a564-aaa047fbd258",
   "metadata": {
    "jp-MarkdownHeadingCollapsed": true
   },
   "source": [
    "## MRR@k (Rank)"
   ]
  },
  {
   "cell_type": "code",
   "execution_count": 47,
   "id": "548eb31f-5d20-404c-9f7a-96c368adb3bc",
   "metadata": {},
   "outputs": [],
   "source": [
    "def compute_mrr(df, vector_search_fn, k=5):\n",
    "    scores = []\n",
    "    for i, row in df.iterrows():\n",
    "        retrieved_docs = vector_search_fn(row[\"question\"], limit=k)\n",
    "        gold = row[\"answer_orig\"].strip()\n",
    "\n",
    "        rank = 0\n",
    "        for idx, doc in enumerate(retrieved_docs):\n",
    "            retrieved_text = doc.get(\"text\", \"\").strip()\n",
    "            if retrieved_text == gold:\n",
    "                rank = idx + 1\n",
    "                break\n",
    "\n",
    "        score = 1 / rank if rank > 0 else 0\n",
    "        scores.append(score)\n",
    "\n",
    "    return scores\n"
   ]
  },
  {
   "cell_type": "code",
   "execution_count": 48,
   "id": "7c31c653-2682-4cce-b3e6-c0fc01819eb9",
   "metadata": {},
   "outputs": [
    {
     "name": "stdout",
     "output_type": "stream",
     "text": [
      "0.6907017543859648\n"
     ]
    }
   ],
   "source": [
    "mrr_at_5 = compute_mrr(df_results_llama, vector_search_fn=vector_search)\n",
    "print(np.mean(mrr_at_5))"
   ]
  }
 ],
 "metadata": {
  "kernelspec": {
   "display_name": "Python (ask_my_resume)",
   "language": "python",
   "name": "ask_my_resume"
  },
  "language_info": {
   "codemirror_mode": {
    "name": "ipython",
    "version": 3
   },
   "file_extension": ".py",
   "mimetype": "text/x-python",
   "name": "python",
   "nbconvert_exporter": "python",
   "pygments_lexer": "ipython3",
   "version": "3.10.6"
  }
 },
 "nbformat": 4,
 "nbformat_minor": 5
}
