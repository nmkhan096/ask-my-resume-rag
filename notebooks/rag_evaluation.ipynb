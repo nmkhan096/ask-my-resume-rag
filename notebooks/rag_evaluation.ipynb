{
 "cells": [
  {
   "cell_type": "code",
   "execution_count": 1,
   "id": "2db422c7-294a-44a4-b6e0-b00424fc448a",
   "metadata": {},
   "outputs": [
    {
     "name": "stdout",
     "output_type": "stream",
     "text": [
      "/c/projects/ask_my_resume/notebooks\n"
     ]
    }
   ],
   "source": [
    "!pwd"
   ]
  },
  {
   "cell_type": "code",
   "execution_count": 2,
   "id": "0f08f866-6e99-49c9-8b26-7affb79ae4dd",
   "metadata": {},
   "outputs": [],
   "source": [
    "import os\n",
    "print(os.getcwd())\n",
    "os.chdir(\"..\")\n",
    "print(os.getcwd())"
   ]
  },
  {
   "cell_type": "code",
   "execution_count": 52,
   "id": "85efc8cb-6bd0-40ea-a540-14e6fc2f74aa",
   "metadata": {},
   "outputs": [],
   "source": [
    "from rag_pipeline.rag import rag"
   ]
  },
  {
   "cell_type": "code",
   "execution_count": 53,
   "id": "0bfe9a0e-bc92-4122-8611-f876397aa4e8",
   "metadata": {},
   "outputs": [
    {
     "name": "stdout",
     "output_type": "stream",
     "text": [
      "Securiti\n"
     ]
    }
   ],
   "source": [
    "print(rag(\"What is the current company name\"))"
   ]
  },
  {
   "cell_type": "code",
   "execution_count": 66,
   "id": "05f6e4f4-575d-4b7c-b31c-6dd506e03d93",
   "metadata": {},
   "outputs": [],
   "source": [
    "from rag_pipeline.rag import vector_search, build_prompt"
   ]
  },
  {
   "cell_type": "code",
   "execution_count": 73,
   "id": "03b5c14a-4138-4e12-8962-d13aad95cb2c",
   "metadata": {},
   "outputs": [],
   "source": [
    "from openai import OpenAI\n",
    "from rag_pipeline.config import API_KEY, LLM_MODEL\n",
    "\n",
    "groq_client = OpenAI(api_key=API_KEY, \n",
    "                     base_url=\"https://api.groq.com/openai/v1\")\n",
    "\n",
    "def llm(prompt, llm_model=\"llama-3.3-70b-versatile\"):\n",
    "    response = groq_client.chat.completions.create(\n",
    "        model=llm_model,  #LLM_MODEL,\n",
    "        messages=[{\"role\": \"user\", \"content\": prompt}]\n",
    "    )\n",
    "    return response.choices[0].message.content\n",
    "\n",
    "def rag(query, sections=[\"Work Experience\", \"Projects\", \"Skills\", \"Education\"], llm_model=\"llama-3.3-70b-versatile\"):\n",
    "    #print(\"model used: \", llm_model)\n",
    "    search_results = vector_search(query, sections=sections)\n",
    "    prompt = build_prompt(query, search_results)\n",
    "    return llm(prompt, llm_model=llm_model)"
   ]
  },
  {
   "cell_type": "code",
   "execution_count": 75,
   "id": "c7eaa857-c371-4ee6-8657-a2276f0abc9e",
   "metadata": {},
   "outputs": [
    {
     "name": "stdout",
     "output_type": "stream",
     "text": [
      "Afiniti Software Solutions Ltd.\n"
     ]
    }
   ],
   "source": [
    "print(rag(\"What is the current company name\", llm_model=\"llama-3.1-8b-instant\"))"
   ]
  },
  {
   "cell_type": "markdown",
   "id": "48c58a8b-e198-4d67-9b82-8e3b30c166da",
   "metadata": {},
   "source": [
    "### Embeddings"
   ]
  },
  {
   "cell_type": "markdown",
   "id": "71603117-6847-4f1a-8882-0158813eadf0",
   "metadata": {},
   "source": [
    "We'll generate embeddings using the sentence transformers library"
   ]
  },
  {
   "cell_type": "code",
   "execution_count": 25,
   "id": "53dad7c0-302c-4e5c-826a-4f88a8ee343f",
   "metadata": {},
   "outputs": [],
   "source": [
    "from sentence_transformers import SentenceTransformer\n",
    "# Trained on real QA pairs from diverse domains & optimized for cosine similarity\n",
    "# so ideal for RAG and Q&A-style tasks\n",
    "model_name_qa = 'multi-qa-MiniLM-L6-cos-v1'  #'all-MiniLM-L6-v2'\n",
    "model_qa = SentenceTransformer(model_name_qa)\n",
    "\n",
    "# Smaller and slightly more general-pupose than multi-qa-*\n",
    "model_name_all = 'all-MiniLM-L6-v2'\n",
    "model_all = SentenceTransformer(model_name_all)"
   ]
  },
  {
   "cell_type": "markdown",
   "id": "8ee0566c-bd2e-4e72-9d3b-e11bdd7691eb",
   "metadata": {},
   "source": [
    "## Ground Truth Data"
   ]
  },
  {
   "cell_type": "code",
   "execution_count": 9,
   "id": "f641a333-9968-4f75-b238-5c58df68e16b",
   "metadata": {},
   "outputs": [],
   "source": [
    "import json\n",
    "\n",
    "with open(\"data/resume.json\", \"r\", encoding=\"utf-8\") as f:\n",
    "    document_raw = json.load(f)"
   ]
  },
  {
   "cell_type": "code",
   "execution_count": 10,
   "id": "becb332b-bd74-4a6a-8edb-b553fec9db6e",
   "metadata": {},
   "outputs": [],
   "source": [
    "prompt_template = \"\"\"\n",
    "You are an interviewer preparing for a behavioral or technical interview.\n",
    "Your goal is to write 5 clear and complete questions that would directly elicit the following resume entry as an answer.\n",
    "Only ask questions that can be directly answered using the provided entry. \n",
    "If the entry only includes company, job title, location, and dates, avoid asking technical or project-based questions.\n",
    "Avoid copying exact phrases from the resume — the questions should sound natural, but their answers should be well covered by the entry.\n",
    "\n",
    "section: {section}\n",
    "entry: {text}\n",
    "\n",
    "Provide the output in a JSON array only without using code blocks:\n",
    "[\"question1\", \"question2\", ..., \"question5\"]\n",
    "\"\"\".strip()"
   ]
  },
  {
   "cell_type": "code",
   "execution_count": 12,
   "id": "ae025870-b182-46ba-82a4-dbf14071263e",
   "metadata": {},
   "outputs": [
    {
     "name": "stdout",
     "output_type": "stream",
     "text": [
      "You are an interviewer preparing for a behavioral or technical interview.\n",
      "Your goal is to write 5 clear and complete questions that would directly elicit the following resume entry as an answer.\n",
      "Only ask questions that can be directly answered using the provided entry. \n",
      "If the entry only includes company, job title, location, and dates, avoid asking technical or project-based questions.\n",
      "Avoid copying exact phrases from the resume — the questions should sound natural, but their answers should be well covered by the entry.\n",
      "\n",
      "section: Work Experience\n",
      "entry: Iteratively improved model accuracy through prompt-formatted instructions and data augmentation techniques, utilizing AI copilots like Claude Code to automate data transformations.\n",
      "\n",
      "Provide the output in a JSON array only without using code blocks:\n",
      "[\"question1\", \"question2\", ..., \"question5\"]\n"
     ]
    }
   ],
   "source": [
    "doc = document_raw[5]\n",
    "prompt = prompt_template.format(\n",
    "        section=doc[\"metadata\"][\"section\"],\n",
    "        text=doc[\"text\"]\n",
    "    )\n",
    "print(prompt)"
   ]
  },
  {
   "cell_type": "code",
   "execution_count": 13,
   "id": "63285b00-5c91-4590-831c-f291f7a82044",
   "metadata": {},
   "outputs": [],
   "source": [
    "def generate_questions(doc):\n",
    "    prompt = prompt_template.format(\n",
    "        section=doc[\"metadata\"][\"section\"],\n",
    "        text=doc[\"text\"]\n",
    "    )\n",
    "\n",
    "    response = openai_client.chat.completions.create(\n",
    "        model='gpt-4o-mini',\n",
    "        messages=[{\"role\": \"user\", \"content\": prompt}]\n",
    "    )\n",
    "\n",
    "    json_response = response.choices[0].message.content\n",
    "    return json_response"
   ]
  },
  {
   "cell_type": "code",
   "execution_count": 14,
   "id": "63ec4014-69bd-4c28-8ffc-66c157f1164d",
   "metadata": {},
   "outputs": [],
   "source": [
    "from tqdm.auto import tqdm"
   ]
  },
  {
   "cell_type": "code",
   "execution_count": 17,
   "id": "1e6d6db3-f0d4-43c4-b9b4-29a83293cc3d",
   "metadata": {},
   "outputs": [
    {
     "name": "stdout",
     "output_type": "stream",
     "text": [
      "19\n"
     ]
    },
    {
     "data": {
      "text/plain": [
       "list"
      ]
     },
     "execution_count": 17,
     "metadata": {},
     "output_type": "execute_result"
    }
   ],
   "source": [
    "print(len(document_raw))\n",
    "type(document_raw)"
   ]
  },
  {
   "cell_type": "code",
   "execution_count": 18,
   "id": "c6088f6b-0471-42fd-bc54-a0df66800cdf",
   "metadata": {},
   "outputs": [
    {
     "data": {
      "text/plain": [
       "95"
      ]
     },
     "execution_count": 18,
     "metadata": {},
     "output_type": "execute_result"
    }
   ],
   "source": [
    "19*5"
   ]
  },
  {
   "cell_type": "code",
   "execution_count": null,
   "id": "8db44f57-945e-4ecc-a09d-a3f78ef1f770",
   "metadata": {},
   "outputs": [],
   "source": [
    "print(document_raw[5]) # 0, 6, \n",
    "\n",
    "print(generate_questions(document_raw[7]))"
   ]
  },
  {
   "cell_type": "code",
   "execution_count": null,
   "id": "b636f309-b947-48aa-a526-317e407194fa",
   "metadata": {},
   "outputs": [],
   "source": [
    "results = {}"
   ]
  },
  {
   "cell_type": "code",
   "execution_count": null,
   "id": "f7fba5a3-a926-4f54-911b-f22d55d095a1",
   "metadata": {},
   "outputs": [],
   "source": [
    "for doc in tqdm(document_raw): \n",
    "    doc_id = doc['id']\n",
    "    if doc_id in results:\n",
    "        continue\n",
    "\n",
    "    questions = generate_questions(doc)\n",
    "    #print(questions)\n",
    "    results[doc_id] = questions"
   ]
  },
  {
   "cell_type": "code",
   "execution_count": null,
   "id": "bb77e623-1abf-46ab-9c1b-192e1f8be031",
   "metadata": {},
   "outputs": [],
   "source": [
    "len(results)"
   ]
  },
  {
   "cell_type": "code",
   "execution_count": null,
   "id": "3d1d3038-d54a-4173-b9ad-b723f20a9e84",
   "metadata": {},
   "outputs": [],
   "source": [
    "doc_id_to_section = {doc['id']:  doc[\"metadata\"][\"section\"] for doc in document_raw}\n",
    "\n",
    "# Flatten the results into a list of rows\n",
    "rows = []\n",
    "for doc_id, question_list in results.items():\n",
    "    section = doc_id_to_section.get(doc_id, \"Unknown\")\n",
    "\n",
    "     # Fix improperly stored stringified lists\n",
    "    if isinstance(question_list, str):\n",
    "        try:\n",
    "            question_list = json.loads(question_list)\n",
    "        except json.JSONDecodeError:\n",
    "            print(f\"Failed to decode questions for doc_id {doc_id}\")\n",
    "            continue\n",
    "            \n",
    "    for question in question_list:\n",
    "        #print(question)\n",
    "        rows.append({\n",
    "            \"question\": question,\n",
    "            \"section\": section,\n",
    "            \"doc_id\": doc_id\n",
    "        })\n",
    "\n",
    "# Convert to DataFrame\n",
    "df = pd.DataFrame(rows)"
   ]
  },
  {
   "cell_type": "code",
   "execution_count": null,
   "id": "8a0c72ac-ac56-407b-945c-a373dc3722c1",
   "metadata": {},
   "outputs": [],
   "source": [
    "len(rows)"
   ]
  },
  {
   "cell_type": "code",
   "execution_count": null,
   "id": "da40bdf2-40c7-4b0a-87e6-b60a87e0b9f9",
   "metadata": {},
   "outputs": [],
   "source": [
    "df.to_csv('data/ground_truth_data.csv', index=False)"
   ]
  },
  {
   "cell_type": "code",
   "execution_count": null,
   "id": "72c3b97f-35ed-4c9e-b928-824a0422c86e",
   "metadata": {},
   "outputs": [],
   "source": [
    "!head data/ground_truth_data.csv"
   ]
  },
  {
   "cell_type": "code",
   "execution_count": 19,
   "id": "65aa8fb0-7a43-4c15-9abc-572f8cc55042",
   "metadata": {},
   "outputs": [
    {
     "data": {
      "text/html": [
       "<div>\n",
       "<style scoped>\n",
       "    .dataframe tbody tr th:only-of-type {\n",
       "        vertical-align: middle;\n",
       "    }\n",
       "\n",
       "    .dataframe tbody tr th {\n",
       "        vertical-align: top;\n",
       "    }\n",
       "\n",
       "    .dataframe thead th {\n",
       "        text-align: right;\n",
       "    }\n",
       "</style>\n",
       "<table border=\"1\" class=\"dataframe\">\n",
       "  <thead>\n",
       "    <tr style=\"text-align: right;\">\n",
       "      <th></th>\n",
       "      <th>question</th>\n",
       "      <th>section</th>\n",
       "      <th>doc_id</th>\n",
       "    </tr>\n",
       "  </thead>\n",
       "  <tbody>\n",
       "    <tr>\n",
       "      <th>0</th>\n",
       "      <td>What is your current job title and where do yo...</td>\n",
       "      <td>Work Experience</td>\n",
       "      <td>ae0142cf-58e4-408a-b2c3-950b9864f8e9</td>\n",
       "    </tr>\n",
       "    <tr>\n",
       "      <th>1</th>\n",
       "      <td>Can you tell me about the location of your cur...</td>\n",
       "      <td>Work Experience</td>\n",
       "      <td>ae0142cf-58e4-408a-b2c3-950b9864f8e9</td>\n",
       "    </tr>\n",
       "    <tr>\n",
       "      <th>2</th>\n",
       "      <td>When did you start your current position?</td>\n",
       "      <td>Work Experience</td>\n",
       "      <td>ae0142cf-58e4-408a-b2c3-950b9864f8e9</td>\n",
       "    </tr>\n",
       "    <tr>\n",
       "      <th>3</th>\n",
       "      <td>Are you currently working as a Data Scientist?</td>\n",
       "      <td>Work Experience</td>\n",
       "      <td>ae0142cf-58e4-408a-b2c3-950b9864f8e9</td>\n",
       "    </tr>\n",
       "    <tr>\n",
       "      <th>4</th>\n",
       "      <td>What company are you employed with at the moment?</td>\n",
       "      <td>Work Experience</td>\n",
       "      <td>ae0142cf-58e4-408a-b2c3-950b9864f8e9</td>\n",
       "    </tr>\n",
       "  </tbody>\n",
       "</table>\n",
       "</div>"
      ],
      "text/plain": [
       "                                            question          section  \\\n",
       "0  What is your current job title and where do yo...  Work Experience   \n",
       "1  Can you tell me about the location of your cur...  Work Experience   \n",
       "2          When did you start your current position?  Work Experience   \n",
       "3     Are you currently working as a Data Scientist?  Work Experience   \n",
       "4  What company are you employed with at the moment?  Work Experience   \n",
       "\n",
       "                                 doc_id  \n",
       "0  ae0142cf-58e4-408a-b2c3-950b9864f8e9  \n",
       "1  ae0142cf-58e4-408a-b2c3-950b9864f8e9  \n",
       "2  ae0142cf-58e4-408a-b2c3-950b9864f8e9  \n",
       "3  ae0142cf-58e4-408a-b2c3-950b9864f8e9  \n",
       "4  ae0142cf-58e4-408a-b2c3-950b9864f8e9  "
      ]
     },
     "execution_count": 19,
     "metadata": {},
     "output_type": "execute_result"
    }
   ],
   "source": [
    "import pandas as pd\n",
    "df_ground_truth = pd.read_csv('data/ground_truth_data.csv')\n",
    "df_ground_truth.head()"
   ]
  },
  {
   "cell_type": "code",
   "execution_count": 20,
   "id": "74792d9b-5986-4d60-8aa7-c2bb35152c58",
   "metadata": {},
   "outputs": [
    {
     "data": {
      "text/plain": [
       "95"
      ]
     },
     "execution_count": 20,
     "metadata": {},
     "output_type": "execute_result"
    }
   ],
   "source": [
    "ground_truth = df_ground_truth.to_dict(orient='records')\n",
    "len(ground_truth)"
   ]
  },
  {
   "cell_type": "code",
   "execution_count": 81,
   "id": "bb9bfb44-c857-4aca-8119-66822058b660",
   "metadata": {},
   "outputs": [],
   "source": [
    "#creating an index on document_raw to quickyl retrive the doc id answer from document_raw:\n",
    "# builds a dictionary (lookup index) where  key is id value from each document, and value is the full document entry\n",
    "doc_idx = {d[\"id\"]: d for d in document_raw}\n",
    "\n",
    "# # Now you can instantly access:\n",
    "# doc_text = doc_idx['3e1e2fd4-45c5-47dd-b4e6-f68835f53f6d'][\"text\"]\n",
    "# doc_section = doc_idx['3e1e2fd4-45c5-47dd-b4e6-f68835f53f6d'][\"metadata\"][\"section\"]\n",
    "# doc_text"
   ]
  },
  {
   "cell_type": "code",
   "execution_count": null,
   "id": "4e271a7c-9100-4c73-89b8-533cb396e1a4",
   "metadata": {},
   "outputs": [],
   "source": [
    "ground_truth[4]['question']"
   ]
  },
  {
   "cell_type": "code",
   "execution_count": null,
   "id": "adf1d8a3-f2ec-4461-afc0-f8226e2e7bd9",
   "metadata": {},
   "outputs": [],
   "source": [
    "rag(ground_truth[4]['question'])"
   ]
  },
  {
   "cell_type": "markdown",
   "id": "f35e36c9-f1ae-460c-8f25-2e230d23b238",
   "metadata": {},
   "source": [
    "### llama-3.3-70b-versatile"
   ]
  },
  {
   "cell_type": "code",
   "execution_count": null,
   "id": "2df45ff2-4ccd-401a-a87b-66b5ca34725d",
   "metadata": {},
   "outputs": [],
   "source": [
    "answers = {}"
   ]
  },
  {
   "cell_type": "code",
   "execution_count": null,
   "id": "b9a3833d-1dac-463f-829e-8abff0f4ab48",
   "metadata": {},
   "outputs": [],
   "source": [
    "for i, rec in enumerate(tqdm(ground_truth)):\n",
    "    if i in answers:\n",
    "        continue\n",
    "    #print(rec['question'])\n",
    "    answer_llm = rag(rec['question'])\n",
    "    doc_id = rec['doc_id']\n",
    "    original_doc = doc_idx[doc_id]\n",
    "    answer_orig = original_doc['text']\n",
    "\n",
    "    answers[i] = {\n",
    "        'answer_llm': answer_llm,\n",
    "        'answer_orig': answer_orig,\n",
    "        'doc_id': doc_id,\n",
    "        'question': rec['question'],\n",
    "        'section': rec['section'],\n",
    "    }"
   ]
  },
  {
   "cell_type": "code",
   "execution_count": null,
   "id": "3e7c3f3f-1694-4891-ad53-fe3c7255bcfa",
   "metadata": {},
   "outputs": [],
   "source": [
    "len(answers)"
   ]
  },
  {
   "cell_type": "code",
   "execution_count": null,
   "id": "3e97f90f-83a9-43da-a023-90687e57312a",
   "metadata": {},
   "outputs": [],
   "source": [
    "df_results_llama = pd.DataFrame(answers.values())#.sample(5).to_dict(orient='records')\n",
    "#os.makedirs('data', exist_ok=True)\n",
    "# df_results_llama.to_csv('data/results_llama-3.3-70b-versatile.csv', index=False)"
   ]
  },
  {
   "cell_type": "code",
   "execution_count": 22,
   "id": "76577eff-ed80-4f48-a3b3-5262714b6f51",
   "metadata": {},
   "outputs": [],
   "source": [
    "df_results_llama = pd.read_csv('data/results_llama-3.3-70b-versatile.csv')"
   ]
  },
  {
   "cell_type": "code",
   "execution_count": 29,
   "id": "576c3a07-c4d3-412c-b83f-9aa0fa86a869",
   "metadata": {},
   "outputs": [],
   "source": [
    "results_llama = df_results_llama.to_dict(orient='records')"
   ]
  },
  {
   "cell_type": "code",
   "execution_count": 32,
   "id": "cc7d27b8-b021-46d0-a8f5-a9ee3aca82da",
   "metadata": {},
   "outputs": [],
   "source": [
    "def compute_similarity(record):\n",
    "    answer_orig = record['answer_orig']\n",
    "    answer_llm = record['answer_llm']\n",
    "    \n",
    "    # v_llm = model_qa.encode(answer_llm)\n",
    "    # v_orig = model_qa.encode(answer_orig)\n",
    "    \n",
    "    v_llm = model_all.encode(answer_llm)\n",
    "    v_orig = model_all.encode(answer_orig)\n",
    "    \n",
    "    return v_llm.dot(v_orig)"
   ]
  },
  {
   "cell_type": "code",
   "execution_count": 33,
   "id": "b7d5d26c-c669-4c15-b9d6-84bbcf1730d1",
   "metadata": {},
   "outputs": [
    {
     "data": {
      "application/vnd.jupyter.widget-view+json": {
       "model_id": "02989ce3734643faa67a7cf95a78bce7",
       "version_major": 2,
       "version_minor": 0
      },
      "text/plain": [
       "  0%|          | 0/95 [00:00<?, ?it/s]"
      ]
     },
     "metadata": {},
     "output_type": "display_data"
    }
   ],
   "source": [
    "similarity = []\n",
    "\n",
    "for record in tqdm(results_llama):\n",
    "    sim = compute_similarity(record)\n",
    "    similarity.append(sim)"
   ]
  },
  {
   "cell_type": "code",
   "execution_count": 31,
   "id": "e22335f2-0b0e-4e4f-b5da-a6149fbcacbb",
   "metadata": {},
   "outputs": [
    {
     "data": {
      "text/html": [
       "<div>\n",
       "<style scoped>\n",
       "    .dataframe tbody tr th:only-of-type {\n",
       "        vertical-align: middle;\n",
       "    }\n",
       "\n",
       "    .dataframe tbody tr th {\n",
       "        vertical-align: top;\n",
       "    }\n",
       "\n",
       "    .dataframe thead th {\n",
       "        text-align: right;\n",
       "    }\n",
       "</style>\n",
       "<table border=\"1\" class=\"dataframe\">\n",
       "  <thead>\n",
       "    <tr style=\"text-align: right;\">\n",
       "      <th></th>\n",
       "      <th>count</th>\n",
       "      <th>mean</th>\n",
       "      <th>std</th>\n",
       "      <th>min</th>\n",
       "      <th>25%</th>\n",
       "      <th>50%</th>\n",
       "      <th>75%</th>\n",
       "      <th>max</th>\n",
       "    </tr>\n",
       "    <tr>\n",
       "      <th>section</th>\n",
       "      <th></th>\n",
       "      <th></th>\n",
       "      <th></th>\n",
       "      <th></th>\n",
       "      <th></th>\n",
       "      <th></th>\n",
       "      <th></th>\n",
       "      <th></th>\n",
       "    </tr>\n",
       "  </thead>\n",
       "  <tbody>\n",
       "    <tr>\n",
       "      <th>Education</th>\n",
       "      <td>10.0</td>\n",
       "      <td>0.527080</td>\n",
       "      <td>0.228442</td>\n",
       "      <td>0.052174</td>\n",
       "      <td>0.425303</td>\n",
       "      <td>0.564721</td>\n",
       "      <td>0.702172</td>\n",
       "      <td>0.759555</td>\n",
       "    </tr>\n",
       "    <tr>\n",
       "      <th>Projects</th>\n",
       "      <td>10.0</td>\n",
       "      <td>0.655759</td>\n",
       "      <td>0.182994</td>\n",
       "      <td>0.381100</td>\n",
       "      <td>0.505373</td>\n",
       "      <td>0.655294</td>\n",
       "      <td>0.769978</td>\n",
       "      <td>0.923424</td>\n",
       "    </tr>\n",
       "    <tr>\n",
       "      <th>Skills</th>\n",
       "      <td>5.0</td>\n",
       "      <td>0.481072</td>\n",
       "      <td>0.115442</td>\n",
       "      <td>0.358570</td>\n",
       "      <td>0.359693</td>\n",
       "      <td>0.512676</td>\n",
       "      <td>0.582870</td>\n",
       "      <td>0.591552</td>\n",
       "    </tr>\n",
       "    <tr>\n",
       "      <th>Work Experience</th>\n",
       "      <td>70.0</td>\n",
       "      <td>0.594996</td>\n",
       "      <td>0.272041</td>\n",
       "      <td>-0.077712</td>\n",
       "      <td>0.532729</td>\n",
       "      <td>0.682576</td>\n",
       "      <td>0.785674</td>\n",
       "      <td>0.929522</td>\n",
       "    </tr>\n",
       "  </tbody>\n",
       "</table>\n",
       "</div>"
      ],
      "text/plain": [
       "                 count      mean       std       min       25%       50%  \\\n",
       "section                                                                    \n",
       "Education         10.0  0.527080  0.228442  0.052174  0.425303  0.564721   \n",
       "Projects          10.0  0.655759  0.182994  0.381100  0.505373  0.655294   \n",
       "Skills             5.0  0.481072  0.115442  0.358570  0.359693  0.512676   \n",
       "Work Experience   70.0  0.594996  0.272041 -0.077712  0.532729  0.682576   \n",
       "\n",
       "                      75%       max  \n",
       "section                              \n",
       "Education        0.702172  0.759555  \n",
       "Projects         0.769978  0.923424  \n",
       "Skills           0.582870  0.591552  \n",
       "Work Experience  0.785674  0.929522  "
      ]
     },
     "execution_count": 31,
     "metadata": {},
     "output_type": "execute_result"
    }
   ],
   "source": [
    "df_results_llama['cosine_qa'] = similarity\n",
    "df_results_llama['cosine_qa'].describe()\n",
    "df_results_llama.groupby('section')['cosine_qa'].describe()"
   ]
  },
  {
   "cell_type": "code",
   "execution_count": 34,
   "id": "1abb68ce-f2e8-45ae-bbf1-12920baf1a5c",
   "metadata": {},
   "outputs": [
    {
     "data": {
      "text/html": [
       "<div>\n",
       "<style scoped>\n",
       "    .dataframe tbody tr th:only-of-type {\n",
       "        vertical-align: middle;\n",
       "    }\n",
       "\n",
       "    .dataframe tbody tr th {\n",
       "        vertical-align: top;\n",
       "    }\n",
       "\n",
       "    .dataframe thead th {\n",
       "        text-align: right;\n",
       "    }\n",
       "</style>\n",
       "<table border=\"1\" class=\"dataframe\">\n",
       "  <thead>\n",
       "    <tr style=\"text-align: right;\">\n",
       "      <th></th>\n",
       "      <th>count</th>\n",
       "      <th>mean</th>\n",
       "      <th>std</th>\n",
       "      <th>min</th>\n",
       "      <th>25%</th>\n",
       "      <th>50%</th>\n",
       "      <th>75%</th>\n",
       "      <th>max</th>\n",
       "    </tr>\n",
       "    <tr>\n",
       "      <th>section</th>\n",
       "      <th></th>\n",
       "      <th></th>\n",
       "      <th></th>\n",
       "      <th></th>\n",
       "      <th></th>\n",
       "      <th></th>\n",
       "      <th></th>\n",
       "      <th></th>\n",
       "    </tr>\n",
       "  </thead>\n",
       "  <tbody>\n",
       "    <tr>\n",
       "      <th>Education</th>\n",
       "      <td>10.0</td>\n",
       "      <td>0.510713</td>\n",
       "      <td>0.182568</td>\n",
       "      <td>0.090166</td>\n",
       "      <td>0.445921</td>\n",
       "      <td>0.543154</td>\n",
       "      <td>0.653294</td>\n",
       "      <td>0.685782</td>\n",
       "    </tr>\n",
       "    <tr>\n",
       "      <th>Projects</th>\n",
       "      <td>10.0</td>\n",
       "      <td>0.740273</td>\n",
       "      <td>0.143630</td>\n",
       "      <td>0.535940</td>\n",
       "      <td>0.633322</td>\n",
       "      <td>0.746957</td>\n",
       "      <td>0.850453</td>\n",
       "      <td>0.945555</td>\n",
       "    </tr>\n",
       "    <tr>\n",
       "      <th>Skills</th>\n",
       "      <td>5.0</td>\n",
       "      <td>0.491292</td>\n",
       "      <td>0.149535</td>\n",
       "      <td>0.284191</td>\n",
       "      <td>0.418129</td>\n",
       "      <td>0.485872</td>\n",
       "      <td>0.620672</td>\n",
       "      <td>0.647595</td>\n",
       "    </tr>\n",
       "    <tr>\n",
       "      <th>Work Experience</th>\n",
       "      <td>70.0</td>\n",
       "      <td>0.633545</td>\n",
       "      <td>0.267725</td>\n",
       "      <td>-0.061153</td>\n",
       "      <td>0.583262</td>\n",
       "      <td>0.727893</td>\n",
       "      <td>0.805798</td>\n",
       "      <td>0.926139</td>\n",
       "    </tr>\n",
       "  </tbody>\n",
       "</table>\n",
       "</div>"
      ],
      "text/plain": [
       "                 count      mean       std       min       25%       50%  \\\n",
       "section                                                                    \n",
       "Education         10.0  0.510713  0.182568  0.090166  0.445921  0.543154   \n",
       "Projects          10.0  0.740273  0.143630  0.535940  0.633322  0.746957   \n",
       "Skills             5.0  0.491292  0.149535  0.284191  0.418129  0.485872   \n",
       "Work Experience   70.0  0.633545  0.267725 -0.061153  0.583262  0.727893   \n",
       "\n",
       "                      75%       max  \n",
       "section                              \n",
       "Education        0.653294  0.685782  \n",
       "Projects         0.850453  0.945555  \n",
       "Skills           0.620672  0.647595  \n",
       "Work Experience  0.805798  0.926139  "
      ]
     },
     "execution_count": 34,
     "metadata": {},
     "output_type": "execute_result"
    }
   ],
   "source": [
    "df_results_llama['cosine_all'] = similarity\n",
    "df_results_llama['cosine_all'].describe()\n",
    "df_results_llama.groupby('section')['cosine_all'].describe()"
   ]
  },
  {
   "cell_type": "code",
   "execution_count": 36,
   "id": "fa01f24d-9c69-4cc8-bb3d-f1a51b1375f1",
   "metadata": {},
   "outputs": [],
   "source": [
    "import seaborn as sns"
   ]
  },
  {
   "cell_type": "code",
   "execution_count": 38,
   "id": "430013b7-800b-44d7-aa54-31f9e684f19b",
   "metadata": {},
   "outputs": [],
   "source": [
    "import matplotlib.pyplot as plt"
   ]
  },
  {
   "cell_type": "code",
   "execution_count": 76,
   "id": "b4127a1c-db78-4c53-afde-d798f31a5d43",
   "metadata": {
    "scrolled": true
   },
   "outputs": [
    {
     "name": "stderr",
     "output_type": "stream",
     "text": [
      "C:\\Users\\Nida Khan\\AppData\\Local\\Temp\\ipykernel_22856\\1557422016.py:1: UserWarning: \n",
      "\n",
      "`distplot` is a deprecated function and will be removed in seaborn v0.14.0.\n",
      "\n",
      "Please adapt your code to use either `displot` (a figure-level function with\n",
      "similar flexibility) or `histplot` (an axes-level function for histograms).\n",
      "\n",
      "For a guide to updating your code to use the new functions, please see\n",
      "https://gist.github.com/mwaskom/de44147ed2974457ad6372750bbe5751\n",
      "\n",
      "  sns.distplot(df_results_llama['cosine_qa'], label='cosine_qa')\n",
      "C:\\Users\\Nida Khan\\AppData\\Local\\Temp\\ipykernel_22856\\1557422016.py:2: UserWarning: \n",
      "\n",
      "`distplot` is a deprecated function and will be removed in seaborn v0.14.0.\n",
      "\n",
      "Please adapt your code to use either `displot` (a figure-level function with\n",
      "similar flexibility) or `histplot` (an axes-level function for histograms).\n",
      "\n",
      "For a guide to updating your code to use the new functions, please see\n",
      "https://gist.github.com/mwaskom/de44147ed2974457ad6372750bbe5751\n",
      "\n",
      "  sns.distplot(df_results_llama['cosine_all'], label='cosine_all')\n",
      "C:\\Users\\Nida Khan\\AppData\\Local\\Temp\\ipykernel_22856\\1557422016.py:3: UserWarning: \n",
      "\n",
      "`distplot` is a deprecated function and will be removed in seaborn v0.14.0.\n",
      "\n",
      "Please adapt your code to use either `displot` (a figure-level function with\n",
      "similar flexibility) or `histplot` (an axes-level function for histograms).\n",
      "\n",
      "For a guide to updating your code to use the new functions, please see\n",
      "https://gist.github.com/mwaskom/de44147ed2974457ad6372750bbe5751\n",
      "\n",
      "  sns.distplot(df_results_llama['cosine'], label='cosine')\n"
     ]
    },
    {
     "data": {
      "text/plain": [
       "<matplotlib.legend.Legend at 0x26190466da0>"
      ]
     },
     "execution_count": 76,
     "metadata": {},
     "output_type": "execute_result"
    },
    {
     "data": {
      "image/png": "[encoded data removed]",
      "text/plain": [
       "<Figure size 640x480 with 1 Axes>"
      ]
     },
     "metadata": {},
     "output_type": "display_data"
    }
   ],
   "source": [
    "sns.distplot(df_results_llama['cosine_qa'], label='cosine_qa')\n",
    "sns.distplot(df_results_llama['cosine_all'], label='cosine_all')\n",
    "sns.distplot(df_results_llama['cosine'], label='cosine')\n",
    "\n",
    "plt.title(\"RAG LLM performance\")\n",
    "plt.xlabel(\"A->Q->A' Cosine Similarity\")\n",
    "plt.legend()"
   ]
  },
  {
   "cell_type": "code",
   "execution_count": 82,
   "id": "5fcfed71-b503-4fcc-bef6-b7239cb423ad",
   "metadata": {},
   "outputs": [],
   "source": [
    "answers = {}"
   ]
  },
  {
   "cell_type": "code",
   "execution_count": 83,
   "id": "9677eb31-6125-43b7-8358-22b6c7b370a2",
   "metadata": {},
   "outputs": [
    {
     "data": {
      "application/vnd.jupyter.widget-view+json": {
       "model_id": "93a06471993242bcb41b596e49f1dcc3",
       "version_major": 2,
       "version_minor": 0
      },
      "text/plain": [
       "  0%|          | 0/95 [00:00<?, ?it/s]"
      ]
     },
     "metadata": {},
     "output_type": "display_data"
    }
   ],
   "source": [
    "for i, rec in enumerate(tqdm(ground_truth)):\n",
    "    if i in answers:\n",
    "        continue\n",
    "    #print(rec['question'])\n",
    "    answer_llm = rag(rec['question'], llm_model=\"llama-3.1-8b-instant\")\n",
    "    doc_id = rec['doc_id']\n",
    "    original_doc = doc_idx[doc_id]\n",
    "    answer_orig = original_doc['text']\n",
    "\n",
    "    answers[i] = {\n",
    "        'answer_llm': answer_llm,\n",
    "        'answer_orig': answer_orig,\n",
    "        'doc_id': doc_id,\n",
    "        'question': rec['question'],\n",
    "        'section': rec['section'],\n",
    "    }"
   ]
  },
  {
   "cell_type": "code",
   "execution_count": 92,
   "id": "a450720e-93b6-41ba-a918-de9a67674f34",
   "metadata": {},
   "outputs": [],
   "source": [
    "df_results = pd.DataFrame(answers.values())#.sample(5).to_dict(orient='records')\n",
    "#os.makedirs('data', exist_ok=True)\n",
    "# df_results_llama.to_csv('data/results_llama-3.3-70b-versatile.csv', index=False)"
   ]
  },
  {
   "cell_type": "code",
   "execution_count": null,
   "id": "afba87e5-cc2c-406c-bd4d-04844f537fc9",
   "metadata": {},
   "outputs": [],
   "source": [
    "df_results = pd.read_csv('data/results_llama-3.3-70b-versatile.csv')"
   ]
  },
  {
   "cell_type": "code",
   "execution_count": 87,
   "id": "c5f3ce01-4bb4-4e2c-8830-a8b7ddc3be9e",
   "metadata": {},
   "outputs": [],
   "source": [
    "#df_results = df_results.to_dict(orient='records')"
   ]
  },
  {
   "cell_type": "code",
   "execution_count": 88,
   "id": "48e8992d-f043-4099-ad66-c8704016d9e3",
   "metadata": {},
   "outputs": [
    {
     "data": {
      "application/vnd.jupyter.widget-view+json": {
       "model_id": "c209ffe41d114723bdcd9eda630817f3",
       "version_major": 2,
       "version_minor": 0
      },
      "text/plain": [
       "  0%|          | 0/95 [00:00<?, ?it/s]"
      ]
     },
     "metadata": {},
     "output_type": "display_data"
    }
   ],
   "source": [
    "similarity = []\n",
    "\n",
    "for record in tqdm(df_results):\n",
    "    sim = compute_similarity(record)\n",
    "    similarity.append(sim)"
   ]
  },
  {
   "cell_type": "code",
   "execution_count": 93,
   "id": "7689d61d-2d40-4cb6-b975-cae6e5d515c4",
   "metadata": {},
   "outputs": [
    {
     "data": {
      "text/html": [
       "<div>\n",
       "<style scoped>\n",
       "    .dataframe tbody tr th:only-of-type {\n",
       "        vertical-align: middle;\n",
       "    }\n",
       "\n",
       "    .dataframe tbody tr th {\n",
       "        vertical-align: top;\n",
       "    }\n",
       "\n",
       "    .dataframe thead th {\n",
       "        text-align: right;\n",
       "    }\n",
       "</style>\n",
       "<table border=\"1\" class=\"dataframe\">\n",
       "  <thead>\n",
       "    <tr style=\"text-align: right;\">\n",
       "      <th></th>\n",
       "      <th>count</th>\n",
       "      <th>mean</th>\n",
       "      <th>std</th>\n",
       "      <th>min</th>\n",
       "      <th>25%</th>\n",
       "      <th>50%</th>\n",
       "      <th>75%</th>\n",
       "      <th>max</th>\n",
       "    </tr>\n",
       "    <tr>\n",
       "      <th>section</th>\n",
       "      <th></th>\n",
       "      <th></th>\n",
       "      <th></th>\n",
       "      <th></th>\n",
       "      <th></th>\n",
       "      <th></th>\n",
       "      <th></th>\n",
       "      <th></th>\n",
       "    </tr>\n",
       "  </thead>\n",
       "  <tbody>\n",
       "    <tr>\n",
       "      <th>Education</th>\n",
       "      <td>10.0</td>\n",
       "      <td>0.551157</td>\n",
       "      <td>0.135180</td>\n",
       "      <td>0.209889</td>\n",
       "      <td>0.553061</td>\n",
       "      <td>0.581034</td>\n",
       "      <td>0.619167</td>\n",
       "      <td>0.677186</td>\n",
       "    </tr>\n",
       "    <tr>\n",
       "      <th>Projects</th>\n",
       "      <td>10.0</td>\n",
       "      <td>0.661562</td>\n",
       "      <td>0.228723</td>\n",
       "      <td>0.064837</td>\n",
       "      <td>0.647266</td>\n",
       "      <td>0.690888</td>\n",
       "      <td>0.764055</td>\n",
       "      <td>0.896328</td>\n",
       "    </tr>\n",
       "    <tr>\n",
       "      <th>Skills</th>\n",
       "      <td>5.0</td>\n",
       "      <td>0.473606</td>\n",
       "      <td>0.121589</td>\n",
       "      <td>0.315682</td>\n",
       "      <td>0.416995</td>\n",
       "      <td>0.483207</td>\n",
       "      <td>0.505718</td>\n",
       "      <td>0.646428</td>\n",
       "    </tr>\n",
       "    <tr>\n",
       "      <th>Work Experience</th>\n",
       "      <td>70.0</td>\n",
       "      <td>0.602707</td>\n",
       "      <td>0.209640</td>\n",
       "      <td>-0.045038</td>\n",
       "      <td>0.516511</td>\n",
       "      <td>0.639194</td>\n",
       "      <td>0.758682</td>\n",
       "      <td>0.930186</td>\n",
       "    </tr>\n",
       "  </tbody>\n",
       "</table>\n",
       "</div>"
      ],
      "text/plain": [
       "                 count      mean       std       min       25%       50%  \\\n",
       "section                                                                    \n",
       "Education         10.0  0.551157  0.135180  0.209889  0.553061  0.581034   \n",
       "Projects          10.0  0.661562  0.228723  0.064837  0.647266  0.690888   \n",
       "Skills             5.0  0.473606  0.121589  0.315682  0.416995  0.483207   \n",
       "Work Experience   70.0  0.602707  0.209640 -0.045038  0.516511  0.639194   \n",
       "\n",
       "                      75%       max  \n",
       "section                              \n",
       "Education        0.619167  0.677186  \n",
       "Projects         0.764055  0.896328  \n",
       "Skills           0.505718  0.646428  \n",
       "Work Experience  0.758682  0.930186  "
      ]
     },
     "execution_count": 93,
     "metadata": {},
     "output_type": "execute_result"
    }
   ],
   "source": [
    "df_results['cosine_all'] = similarity\n",
    "df_results['cosine_all'].describe()\n",
    "df_results.groupby('section')['cosine_all'].describe()"
   ]
  },
  {
   "cell_type": "code",
   "execution_count": 96,
   "id": "b57fcf30-b1d1-4164-8285-19873d491b2d",
   "metadata": {},
   "outputs": [
    {
     "name": "stderr",
     "output_type": "stream",
     "text": [
      "C:\\Users\\Nida Khan\\AppData\\Local\\Temp\\ipykernel_22856\\1810249457.py:1: UserWarning: \n",
      "\n",
      "`distplot` is a deprecated function and will be removed in seaborn v0.14.0.\n",
      "\n",
      "Please adapt your code to use either `displot` (a figure-level function with\n",
      "similar flexibility) or `histplot` (an axes-level function for histograms).\n",
      "\n",
      "For a guide to updating your code to use the new functions, please see\n",
      "https://gist.github.com/mwaskom/de44147ed2974457ad6372750bbe5751\n",
      "\n",
      "  sns.distplot(df_results_llama['cosine_all'], label='llama-versatile')\n",
      "C:\\Users\\Nida Khan\\AppData\\Local\\Temp\\ipykernel_22856\\1810249457.py:2: UserWarning: \n",
      "\n",
      "`distplot` is a deprecated function and will be removed in seaborn v0.14.0.\n",
      "\n",
      "Please adapt your code to use either `displot` (a figure-level function with\n",
      "similar flexibility) or `histplot` (an axes-level function for histograms).\n",
      "\n",
      "For a guide to updating your code to use the new functions, please see\n",
      "https://gist.github.com/mwaskom/de44147ed2974457ad6372750bbe5751\n",
      "\n",
      "  sns.distplot(df_results['cosine_all'], label='llama-instant')\n"
     ]
    },
    {
     "data": {
      "text/plain": [
       "<matplotlib.legend.Legend at 0x26194c3bee0>"
      ]
     },
     "execution_count": 96,
     "metadata": {},
     "output_type": "execute_result"
    },
    {
     "data": {
      "image/png": "[encoded data removed]",
      "text/plain": [
       "<Figure size 640x480 with 1 Axes>"
      ]
     },
     "metadata": {},
     "output_type": "display_data"
    }
   ],
   "source": [
    "sns.distplot(df_results_llama['cosine_all'], label='llama-versatile')\n",
    "sns.distplot(df_results['cosine_all'], label='llama-instant')\n",
    "#sns.distplot(df_results_llama['cosine'], label='cosine')\n",
    "\n",
    "plt.title(\"RAG LLM performance\")\n",
    "plt.xlabel(\"A->Q->A' Cosine Similarity\")\n",
    "plt.legend()"
   ]
  }
 ],
 "metadata": {
  "kernelspec": {
   "display_name": "Python (ask_my_resume)",
   "language": "python",
   "name": "ask_my_resume"
  },
  "language_info": {
   "codemirror_mode": {
    "name": "ipython",
    "version": 3
   },
   "file_extension": ".py",
   "mimetype": "text/x-python",
   "name": "python",
   "nbconvert_exporter": "python",
   "pygments_lexer": "ipython3",
   "version": "3.10.6"
  }
 },
 "nbformat": 4,
 "nbformat_minor": 5
}
